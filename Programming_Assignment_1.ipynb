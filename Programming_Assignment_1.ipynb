{
  "nbformat": 4,
  "nbformat_minor": 0,
  "metadata": {
    "colab": {
      "provenance": []
    },
    "kernelspec": {
      "name": "python3",
      "display_name": "Python 3"
    },
    "language_info": {
      "name": "python"
    }
  },
  "cells": [
    {
      "cell_type": "markdown",
      "source": [
        "## 1. Write a Python program to print \"Hello Python\"?"
      ],
      "metadata": {
        "id": "6KQS8rHGKmUG"
      }
    },
    {
      "cell_type": "code",
      "execution_count": 1,
      "metadata": {
        "colab": {
          "base_uri": "https://localhost:8080/"
        },
        "id": "sBHq-fw2KhLS",
        "outputId": "b34b9410-7652-45f5-9d51-c4f3d079e3e8"
      },
      "outputs": [
        {
          "output_type": "stream",
          "name": "stdout",
          "text": [
            "Hello Python\n"
          ]
        }
      ],
      "source": [
        "print(\"Hello Python\")"
      ]
    },
    {
      "cell_type": "markdown",
      "source": [
        "## 2.\tWrite a Python program to do arithmetical operations addition and division.?"
      ],
      "metadata": {
        "id": "GWIIH241K7Iy"
      }
    },
    {
      "cell_type": "code",
      "source": [
        "a = float(input(\"Enter 1st non-zero number: \"))\n",
        "b = float(input(\"Enter 2nd non-zero number: \"))\n",
        "\n",
        "opr = input(\"Select the operations: Addition or Division - \")\n",
        "\n",
        "if opr == \"Addition\":\n",
        "  print(\"You have selected addition operation\")\n",
        "  sum1 = a + b\n",
        "  print(f\"The addition of {a} and {b} is: {sum1}\")\n",
        "if opr == \"Division\":\n",
        "  print(\"You have selected division operation\")\n",
        "  divs = a / b\n",
        "  print(f\"After division of {a} by {b}, the answer is: {divs}\")\n"
      ],
      "metadata": {
        "colab": {
          "base_uri": "https://localhost:8080/"
        },
        "id": "mscPbf-NLBqG",
        "outputId": "67f6b0e2-8c2c-4253-937e-b7b118a5283a"
      },
      "execution_count": 6,
      "outputs": [
        {
          "output_type": "stream",
          "name": "stdout",
          "text": [
            "Enter 1st non-zero number: 5\n",
            "Enter 2nd non-zero number: 10\n",
            "Select the operations: Addition or Division - Division\n",
            "You have selected division operation\n",
            "After division of 5.0 by 10.0, the answer is: 0.5\n"
          ]
        }
      ]
    },
    {
      "cell_type": "markdown",
      "source": [
        "## 3.\tWrite a Python program to find the area of a triangle?"
      ],
      "metadata": {
        "id": "2negxfYuK_rH"
      }
    },
    {
      "cell_type": "code",
      "source": [
        "import math\n",
        "\n",
        "a = float(input(\"Enter 1st side of triangle: \"))\n",
        "b = float(input(\"Enter 2nd side of triangle: \"))\n",
        "c = float(input(\"Enter 3rd side of triangle: \"))\n",
        "\n",
        "s = (a+b+c)/2\n",
        "\n",
        "Area = math.sqrt(s * (s-a) * (s-b) * (s-c))\n",
        "print(\"Area of triangle is: \",Area)"
      ],
      "metadata": {
        "colab": {
          "base_uri": "https://localhost:8080/"
        },
        "id": "5uvHFTpRLFm9",
        "outputId": "9eab29aa-22dc-4f8e-8870-a57674b8bb0d"
      },
      "execution_count": 8,
      "outputs": [
        {
          "output_type": "stream",
          "name": "stdout",
          "text": [
            "Enter 1st side of triangle: 5\n",
            "Enter 2nd side of triangle: 4\n",
            "Enter 3rd side of triangle: 3\n",
            "Area of triangle is:  6.0\n"
          ]
        }
      ]
    },
    {
      "cell_type": "markdown",
      "source": [
        "## 4.\tWrite a Python program to swap two variables?"
      ],
      "metadata": {
        "id": "HgDT7STfLGDH"
      }
    },
    {
      "cell_type": "code",
      "source": [
        "a = \"muk\"\n",
        "b = 69\n",
        "\n",
        "#swap rule\n",
        "a , b = b, a\n",
        "\n",
        "print(\"After swapping\")\n",
        "print(\"a is: \", a)\n",
        "print(\"b is: \", b)"
      ],
      "metadata": {
        "colab": {
          "base_uri": "https://localhost:8080/"
        },
        "id": "ol-HaTiRLIlh",
        "outputId": "299aaf47-e405-4981-d8c4-2adf3e5c1c3e"
      },
      "execution_count": 10,
      "outputs": [
        {
          "output_type": "stream",
          "name": "stdout",
          "text": [
            "After swapping\n",
            "a is:  69\n",
            "b is:  muk\n"
          ]
        }
      ]
    },
    {
      "cell_type": "markdown",
      "source": [
        "## 5.\tWrite a Python program to generate a random number?"
      ],
      "metadata": {
        "id": "YS0Bg0BaLI8d"
      }
    },
    {
      "cell_type": "code",
      "source": [
        "import random\n",
        "\n",
        "num = random.randint(1,100)\n",
        "print(num)"
      ],
      "metadata": {
        "colab": {
          "base_uri": "https://localhost:8080/"
        },
        "id": "W1CchdcKLMHe",
        "outputId": "d56f44ea-317d-4672-b5e5-8bad310570ca"
      },
      "execution_count": 13,
      "outputs": [
        {
          "output_type": "stream",
          "name": "stdout",
          "text": [
            "91\n"
          ]
        }
      ]
    }
  ]
}
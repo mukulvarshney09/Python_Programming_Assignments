{
  "nbformat": 4,
  "nbformat_minor": 0,
  "metadata": {
    "colab": {
      "provenance": []
    },
    "kernelspec": {
      "name": "python3",
      "display_name": "Python 3"
    },
    "language_info": {
      "name": "python"
    }
  },
  "cells": [
    {
      "cell_type": "markdown",
      "source": [
        "## 1.\tWrite a Python program to check if the given number is a Disarium Number?"
      ],
      "metadata": {
        "id": "rKs7doM4ykx1"
      }
    },
    {
      "cell_type": "code",
      "source": [
        "from functools import reduce\n",
        "\n",
        "num = 89\n",
        "\n",
        "num_str = str(num)\n",
        "n = len(num_str)\n",
        "\n",
        "sum_of_digits = reduce(lambda x, y: x + y, [int(digit) ** (i + 1) for i, digit in enumerate(num_str)])\n",
        "\n",
        "is_disarium = num == sum_of_digits\n",
        "\n",
        "print(f\"{num} is a Disarium Number.\" if is_disarium else f\"{num} is not a Disarium Number.\")"
      ],
      "metadata": {
        "colab": {
          "base_uri": "https://localhost:8080/"
        },
        "id": "Mg4oY99YzJUi",
        "outputId": "3928dabd-87f9-4055-8df8-3d51d64c4f76"
      },
      "execution_count": null,
      "outputs": [
        {
          "output_type": "stream",
          "name": "stdout",
          "text": [
            "89 is a Disarium Number.\n"
          ]
        }
      ]
    },
    {
      "cell_type": "markdown",
      "source": [
        "## 2.\tWrite a Python program to print all disarium numbers between 1 to 100?"
      ],
      "metadata": {
        "id": "3_hUIdUzzJu2"
      }
    },
    {
      "cell_type": "code",
      "source": [
        "def is_disarium(n):\n",
        "    num_str = str(n)\n",
        "    n = len(num_str)\n",
        "\n",
        "    sum_of_digits = reduce(lambda x, y: x + y, [int(digit) ** (i + 1) for i, digit in enumerate(num_str)])\n",
        "\n",
        "    return n == sum_of_digits\n",
        "\n",
        "disarium_numbers = [i for i in range(1, 101) if is_disarium(i)]\n",
        "\n",
        "print(\"Disarium numbers between 1 and 100:\")\n",
        "for num in disarium_numbers:\n",
        "    print(num)"
      ],
      "metadata": {
        "colab": {
          "base_uri": "https://localhost:8080/"
        },
        "id": "xfgAxqAZzMcO",
        "outputId": "04c0b095-7ac8-4e89-f014-b8f518ff3e16"
      },
      "execution_count": null,
      "outputs": [
        {
          "output_type": "stream",
          "name": "stdout",
          "text": [
            "Disarium numbers between 1 and 100:\n",
            "1\n",
            "11\n",
            "20\n"
          ]
        }
      ]
    },
    {
      "cell_type": "markdown",
      "source": [
        "## 3.\tWrite a Python program to check if the given number is Happy Number?"
      ],
      "metadata": {
        "id": "I3eoFamyzNCh"
      }
    },
    {
      "cell_type": "code",
      "source": [
        "def is_happy_number(n):\n",
        "  past_numbers = set()\n",
        "  while n != 1:\n",
        "    if n in past_numbers:\n",
        "      return False\n",
        "    past_numbers.add(n)\n",
        "    n = sum(int(digit) ** 2 for digit in str(n))\n",
        "  return True\n",
        "\n",
        "happy_numbers = [i for i in range(1, 101) if is_happy_number(i)]\n",
        "\n",
        "print(\"Happy numbers between 1 and 100:\")\n",
        "for num in happy_numbers:\n",
        "    print(num)"
      ],
      "metadata": {
        "id": "zSQ-TM4P1ctu"
      },
      "execution_count": null,
      "outputs": []
    },
    {
      "cell_type": "markdown",
      "source": [
        "## 4.\tWrite a Python program to print all happy numbers between 1 and 100?"
      ],
      "metadata": {
        "id": "REjVpSr4zPp8"
      }
    },
    {
      "cell_type": "code",
      "source": [
        "def sum_of_squares(number):\n",
        "    return sum(int(digit) ** 2 for digit in str(number))\n",
        "\n",
        "happy_numbers = [num for num in range(1, 101) if num == 1 or num == 7 or (num != 4 and num != 1 and num == sum_of_squares(num))]\n",
        "\n",
        "print(\"Happy Numbers between 1 and 100:\", happy_numbers)"
      ],
      "metadata": {
        "id": "renTkbVt1uWc"
      },
      "execution_count": null,
      "outputs": []
    },
    {
      "cell_type": "markdown",
      "source": [
        "## 5.\tWrite a Python program to determine whether the given number is a Harshad Number?"
      ],
      "metadata": {
        "id": "BMt3iJn6zSbt"
      }
    },
    {
      "cell_type": "code",
      "source": [
        "def is_harshad_number(n):\n",
        "    sum_of_digits = sum(int(digit) for digit in str(n))\n",
        "    return n % sum_of_digits == 0\n",
        "\n",
        "harshad_numbers = [i for i in range(1, 101) if is_harshad_number(i)]\n",
        "\n",
        "print(\"Harshad numbers between 1 and 100:\")\n",
        "for num in harshad_numbers:\n",
        "    print(num)"
      ],
      "metadata": {
        "id": "2RZKbtOV10qR"
      },
      "execution_count": null,
      "outputs": []
    },
    {
      "cell_type": "markdown",
      "source": [
        "## 6.\tWrite a Python program to print all pronic numbers between 1 and 100?"
      ],
      "metadata": {
        "id": "efdcCPA6zVO9"
      }
    },
    {
      "cell_type": "code",
      "source": [
        "pronic_numbers = [num for num in range(1, 101) if any(i * (i + 1) == num for i in range(int(num**0.5)))]\n",
        "\n",
        "print(\"Pronic Numbers between 1 and 100:\", pronic_numbers)"
      ],
      "metadata": {
        "colab": {
          "base_uri": "https://localhost:8080/"
        },
        "id": "AuzEucfHzXYK",
        "outputId": "2228f9d3-259c-4016-8c94-8c493c901eae"
      },
      "execution_count": null,
      "outputs": [
        {
          "output_type": "stream",
          "name": "stdout",
          "text": [
            "Pronic Numbers between 1 and 100: []\n"
          ]
        }
      ]
    }
  ]
}
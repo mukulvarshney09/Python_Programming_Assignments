{
  "nbformat": 4,
  "nbformat_minor": 0,
  "metadata": {
    "colab": {
      "provenance": []
    },
    "kernelspec": {
      "name": "python3",
      "display_name": "Python 3"
    },
    "language_info": {
      "name": "python"
    }
  },
  "cells": [
    {
      "cell_type": "code",
      "execution_count": 1,
      "metadata": {
        "id": "UnVDN32Zy6KA"
      },
      "outputs": [],
      "source": [
        "#Answer 1\n",
        "\n",
        "def is_symmetrical(num):\n",
        "    return str(num) == str(num)[::-1]"
      ]
    },
    {
      "cell_type": "code",
      "source": [
        "is_symmetrical(9939)"
      ],
      "metadata": {
        "colab": {
          "base_uri": "https://localhost:8080/"
        },
        "id": "oEPJ18Y1zALh",
        "outputId": "3d1520aa-15f0-49c6-f931-6d00d9b24763"
      },
      "execution_count": 2,
      "outputs": [
        {
          "output_type": "execute_result",
          "data": {
            "text/plain": [
              "False"
            ]
          },
          "metadata": {},
          "execution_count": 2
        }
      ]
    },
    {
      "cell_type": "code",
      "source": [
        "is_symmetrical(44444444)"
      ],
      "metadata": {
        "colab": {
          "base_uri": "https://localhost:8080/"
        },
        "id": "AKsUszvGzAIA",
        "outputId": "ccf96e85-3daf-4eba-a685-479d019f64c9"
      },
      "execution_count": 3,
      "outputs": [
        {
          "output_type": "execute_result",
          "data": {
            "text/plain": [
              "True"
            ]
          },
          "metadata": {},
          "execution_count": 3
        }
      ]
    },
    {
      "cell_type": "code",
      "source": [
        "#Answer 2\n",
        "\n",
        "def multiply_nums(nums_str):\n",
        "    nums = [int(x) for x in nums_str.split(\", \")]\n",
        "    return 0 if 0 in nums else eval('*'.join(map(str, nums)))"
      ],
      "metadata": {
        "id": "JpGzzfshzAFW"
      },
      "execution_count": 5,
      "outputs": []
    },
    {
      "cell_type": "code",
      "source": [
        "multiply_nums(\"1, 2, 3, 4\")"
      ],
      "metadata": {
        "colab": {
          "base_uri": "https://localhost:8080/"
        },
        "id": "MyCj1pDnzACV",
        "outputId": "ce36f599-3b32-4395-8d75-c90ab8347910"
      },
      "execution_count": 6,
      "outputs": [
        {
          "output_type": "execute_result",
          "data": {
            "text/plain": [
              "24"
            ]
          },
          "metadata": {},
          "execution_count": 6
        }
      ]
    },
    {
      "cell_type": "code",
      "source": [
        "#Answer 3\n",
        "\n",
        "def square_digits(num):\n",
        "    return int(''.join(str(int(digit)**2) for digit in str(num)))"
      ],
      "metadata": {
        "id": "crOQ5iYby__p"
      },
      "execution_count": 7,
      "outputs": []
    },
    {
      "cell_type": "code",
      "source": [
        "square_digits(2483)"
      ],
      "metadata": {
        "colab": {
          "base_uri": "https://localhost:8080/"
        },
        "id": "x_7xcPKEy_9D",
        "outputId": "5ad72862-c6e6-4438-9698-4c79f67c1608"
      },
      "execution_count": 8,
      "outputs": [
        {
          "output_type": "execute_result",
          "data": {
            "text/plain": [
              "416649"
            ]
          },
          "metadata": {},
          "execution_count": 8
        }
      ]
    },
    {
      "cell_type": "code",
      "source": [
        "#Answer 4\n",
        "\n",
        "def setify(lst):\n",
        "    return list(set(lst))"
      ],
      "metadata": {
        "id": "FRPtaUhvy_6X"
      },
      "execution_count": 9,
      "outputs": []
    },
    {
      "cell_type": "code",
      "source": [
        "setify([4, 4, 4, 4])"
      ],
      "metadata": {
        "colab": {
          "base_uri": "https://localhost:8080/"
        },
        "id": "0C6ROAe3y_3b",
        "outputId": "93fc1b36-1bd3-408a-b5cd-ac53a4861b0a"
      },
      "execution_count": 10,
      "outputs": [
        {
          "output_type": "execute_result",
          "data": {
            "text/plain": [
              "[4]"
            ]
          },
          "metadata": {},
          "execution_count": 10
        }
      ]
    },
    {
      "cell_type": "code",
      "source": [
        "#Answer 5\n",
        "\n",
        "def mean(num):\n",
        "    digits = [int(digit) for digit in str(num)]\n",
        "    return sum(digits) // len(digits)"
      ],
      "metadata": {
        "id": "NNVMNQUqy_06"
      },
      "execution_count": 11,
      "outputs": []
    },
    {
      "cell_type": "code",
      "source": [
        "mean(12345)"
      ],
      "metadata": {
        "colab": {
          "base_uri": "https://localhost:8080/"
        },
        "id": "-EYuz3dKzqOi",
        "outputId": "6af58380-4c70-4d26-de46-82d31ef494b2"
      },
      "execution_count": 12,
      "outputs": [
        {
          "output_type": "execute_result",
          "data": {
            "text/plain": [
              "3"
            ]
          },
          "metadata": {},
          "execution_count": 12
        }
      ]
    }
  ]
}
{
  "nbformat": 4,
  "nbformat_minor": 0,
  "metadata": {
    "colab": {
      "provenance": []
    },
    "kernelspec": {
      "name": "python3",
      "display_name": "Python 3"
    },
    "language_info": {
      "name": "python"
    }
  },
  "cells": [
    {
      "cell_type": "code",
      "execution_count": 1,
      "metadata": {
        "id": "b3Gnk7h2v8dc"
      },
      "outputs": [],
      "source": [
        "#Answer 1\n",
        "\n",
        "def next_in_line(lst, num):\n",
        "    if lst:\n",
        "        lst.append(num)\n",
        "        lst.pop(0)\n",
        "        return lst\n",
        "    else:\n",
        "        return \"No list has been selected\""
      ]
    },
    {
      "cell_type": "code",
      "source": [
        "next_in_line([5, 6, 7, 8, 9], 1)\n"
      ],
      "metadata": {
        "colab": {
          "base_uri": "https://localhost:8080/"
        },
        "id": "1bQV9YvuwNw0",
        "outputId": "252303d8-14be-4687-caf1-b67cf1b61efd"
      },
      "execution_count": 3,
      "outputs": [
        {
          "output_type": "execute_result",
          "data": {
            "text/plain": [
              "[6, 7, 8, 9, 1]"
            ]
          },
          "metadata": {},
          "execution_count": 3
        }
      ]
    },
    {
      "cell_type": "code",
      "source": [
        "#Answer 2\n",
        "\n",
        "def get_budgets(budgets):\n",
        "    return sum(person['budget'] for person in budgets)"
      ],
      "metadata": {
        "id": "NL6f_P8owNtR"
      },
      "execution_count": 4,
      "outputs": []
    },
    {
      "cell_type": "code",
      "source": [
        "get_budgets([\n",
        "  {\"name\": \"John\", \"age\": 21, \"budget\": 23000},\n",
        "  {\"name\": \"Steve\", \"age\": 32, \"budget\": 40000},\n",
        "  {\"name\": \"Martin\", \"age\": 16, \"budget\": 2700}\n",
        "])"
      ],
      "metadata": {
        "colab": {
          "base_uri": "https://localhost:8080/"
        },
        "id": "i-jLfxKQwNqw",
        "outputId": "bca293a7-089a-4a40-a336-31a027d85c71"
      },
      "execution_count": 5,
      "outputs": [
        {
          "output_type": "execute_result",
          "data": {
            "text/plain": [
              "65700"
            ]
          },
          "metadata": {},
          "execution_count": 5
        }
      ]
    },
    {
      "cell_type": "code",
      "source": [
        "#Answer 3\n",
        "\n",
        "def alphabet_soup(s):\n",
        "    return ''.join(sorted(s))"
      ],
      "metadata": {
        "id": "jpnPyfFywNn9"
      },
      "execution_count": 6,
      "outputs": []
    },
    {
      "cell_type": "code",
      "source": [
        "alphabet_soup(\"hacker\")"
      ],
      "metadata": {
        "colab": {
          "base_uri": "https://localhost:8080/",
          "height": 35
        },
        "id": "z5hBXl9uwNlH",
        "outputId": "be05e9b7-f0e6-437c-86ed-6ef91c623b90"
      },
      "execution_count": 7,
      "outputs": [
        {
          "output_type": "execute_result",
          "data": {
            "text/plain": [
              "'acehkr'"
            ],
            "application/vnd.google.colaboratory.intrinsic+json": {
              "type": "string"
            }
          },
          "metadata": {},
          "execution_count": 7
        }
      ]
    },
    {
      "cell_type": "code",
      "source": [
        "#Answer 4\n",
        "\n",
        "def compound_interest(p, t, r, n):\n",
        "    return round(p * (1 + r/n)**(n*t), 2)"
      ],
      "metadata": {
        "id": "pFw0b3E_wekl"
      },
      "execution_count": 8,
      "outputs": []
    },
    {
      "cell_type": "code",
      "source": [
        "compound_interest(10000, 10, 0.06, 12)"
      ],
      "metadata": {
        "colab": {
          "base_uri": "https://localhost:8080/"
        },
        "id": "mNDm8oykwehF",
        "outputId": "f7048f40-fc16-4d51-8c55-604dd38fb6df"
      },
      "execution_count": 9,
      "outputs": [
        {
          "output_type": "execute_result",
          "data": {
            "text/plain": [
              "18193.97"
            ]
          },
          "metadata": {},
          "execution_count": 9
        }
      ]
    },
    {
      "cell_type": "code",
      "source": [
        "#Answer 5\n",
        "\n",
        "def return_only_integer(lst):\n",
        "    return [x for x in lst if isinstance(x, int)]"
      ],
      "metadata": {
        "id": "WJrW7Mzjweea"
      },
      "execution_count": 10,
      "outputs": []
    },
    {
      "cell_type": "code",
      "source": [
        "return_only_integer([\"hello\", 81, \"basketball\", 123, \"fox\"])"
      ],
      "metadata": {
        "colab": {
          "base_uri": "https://localhost:8080/"
        },
        "id": "mNKbLdViwebr",
        "outputId": "b0d1a164-765d-45d0-b649-d6f65f211186"
      },
      "execution_count": 11,
      "outputs": [
        {
          "output_type": "execute_result",
          "data": {
            "text/plain": [
              "[81, 123]"
            ]
          },
          "metadata": {},
          "execution_count": 11
        }
      ]
    },
    {
      "cell_type": "code",
      "source": [],
      "metadata": {
        "id": "JqWZerLiweZJ"
      },
      "execution_count": null,
      "outputs": []
    },
    {
      "cell_type": "code",
      "source": [],
      "metadata": {
        "id": "iG3ldOwpweWO"
      },
      "execution_count": null,
      "outputs": []
    }
  ]
}
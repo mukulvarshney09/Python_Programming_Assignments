{
  "nbformat": 4,
  "nbformat_minor": 0,
  "metadata": {
    "colab": {
      "provenance": []
    },
    "kernelspec": {
      "name": "python3",
      "display_name": "Python 3"
    },
    "language_info": {
      "name": "python"
    }
  },
  "cells": [
    {
      "cell_type": "code",
      "execution_count": 1,
      "metadata": {
        "id": "BUg9MdFNqGyG"
      },
      "outputs": [],
      "source": [
        "#Answer 1\n",
        "\n",
        "def double_char(s):\n",
        "    return ''.join([c * 2 for c in s])"
      ]
    },
    {
      "cell_type": "code",
      "source": [
        "double_char(\"Hello World!\")"
      ],
      "metadata": {
        "colab": {
          "base_uri": "https://localhost:8080/",
          "height": 35
        },
        "id": "DLWXxXaBqQzQ",
        "outputId": "96416f8f-4ff7-4585-f266-9acd556e8d30"
      },
      "execution_count": 2,
      "outputs": [
        {
          "output_type": "execute_result",
          "data": {
            "text/plain": [
              "'HHeelllloo  WWoorrlldd!!'"
            ],
            "application/vnd.google.colaboratory.intrinsic+json": {
              "type": "string"
            }
          },
          "metadata": {},
          "execution_count": 2
        }
      ]
    },
    {
      "cell_type": "code",
      "source": [
        "#Answer 2\n",
        "\n",
        "def reverse(value):\n",
        "    if type(value) == bool:\n",
        "        return not value\n",
        "    else:\n",
        "        return \"boolean expected\""
      ],
      "metadata": {
        "id": "SniqkDZdqQv1"
      },
      "execution_count": 3,
      "outputs": []
    },
    {
      "cell_type": "code",
      "source": [
        "reverse(False)"
      ],
      "metadata": {
        "colab": {
          "base_uri": "https://localhost:8080/"
        },
        "id": "wnI-G55kqQtE",
        "outputId": "a6bafd38-4337-4016-aab3-ea794d344417"
      },
      "execution_count": 4,
      "outputs": [
        {
          "output_type": "execute_result",
          "data": {
            "text/plain": [
              "True"
            ]
          },
          "metadata": {},
          "execution_count": 4
        }
      ]
    },
    {
      "cell_type": "code",
      "source": [
        "reverse(None)"
      ],
      "metadata": {
        "colab": {
          "base_uri": "https://localhost:8080/",
          "height": 35
        },
        "id": "XH21iKmMqQqj",
        "outputId": "59d7a08b-f80a-4510-86a3-3293d265ed1b"
      },
      "execution_count": 5,
      "outputs": [
        {
          "output_type": "execute_result",
          "data": {
            "text/plain": [
              "'boolean expected'"
            ],
            "application/vnd.google.colaboratory.intrinsic+json": {
              "type": "string"
            }
          },
          "metadata": {},
          "execution_count": 5
        }
      ]
    },
    {
      "cell_type": "code",
      "source": [
        "#Answer 3\n",
        "\n",
        "def num_layers(n):\n",
        "    thickness = 0.5 * (2 ** n) / 1000  # Convert mm to meters\n",
        "    return f\"{thickness:.3f}m\""
      ],
      "metadata": {
        "id": "cPESO432qQne"
      },
      "execution_count": 6,
      "outputs": []
    },
    {
      "cell_type": "code",
      "source": [
        "num_layers(4)"
      ],
      "metadata": {
        "colab": {
          "base_uri": "https://localhost:8080/",
          "height": 35
        },
        "id": "cOlkhIpDqQkz",
        "outputId": "c5038761-9cd9-4407-b534-062d8c44ff54"
      },
      "execution_count": 7,
      "outputs": [
        {
          "output_type": "execute_result",
          "data": {
            "text/plain": [
              "'0.008m'"
            ],
            "application/vnd.google.colaboratory.intrinsic+json": {
              "type": "string"
            }
          },
          "metadata": {},
          "execution_count": 7
        }
      ]
    },
    {
      "cell_type": "code",
      "source": [
        "#Answer 4\n",
        "\n",
        "def index_of_caps(s):\n",
        "    return [i for i, char in enumerate(s) if char.isupper()]"
      ],
      "metadata": {
        "id": "f9Q6W_7xqQh_"
      },
      "execution_count": 8,
      "outputs": []
    },
    {
      "cell_type": "code",
      "source": [
        "index_of_caps(\"STRIKE\")"
      ],
      "metadata": {
        "colab": {
          "base_uri": "https://localhost:8080/"
        },
        "id": "bSza6Q-aqvR2",
        "outputId": "06a7d1fb-8445-4c8b-bf4d-5e64d4d03853"
      },
      "execution_count": 9,
      "outputs": [
        {
          "output_type": "execute_result",
          "data": {
            "text/plain": [
              "[0, 1, 2, 3, 4, 5]"
            ]
          },
          "metadata": {},
          "execution_count": 9
        }
      ]
    },
    {
      "cell_type": "code",
      "source": [
        "index_of_caps(\"sUn\")"
      ],
      "metadata": {
        "colab": {
          "base_uri": "https://localhost:8080/"
        },
        "id": "b8R5d8hPqvOU",
        "outputId": "a72da271-bb56-4c4e-a703-e70ffb6db895"
      },
      "execution_count": 10,
      "outputs": [
        {
          "output_type": "execute_result",
          "data": {
            "text/plain": [
              "[1]"
            ]
          },
          "metadata": {},
          "execution_count": 10
        }
      ]
    },
    {
      "cell_type": "code",
      "source": [
        "#Answer 5\n",
        "\n",
        "def find_even_nums(n):\n",
        "    return [i for i in range(2, n+1, 2)]"
      ],
      "metadata": {
        "id": "J7gIGqtOqvLs"
      },
      "execution_count": 11,
      "outputs": []
    },
    {
      "cell_type": "code",
      "source": [
        "find_even_nums(8)"
      ],
      "metadata": {
        "colab": {
          "base_uri": "https://localhost:8080/"
        },
        "id": "BUZUdc7XqvI2",
        "outputId": "1f9debc1-5acc-4fee-fa4b-e53e0587a23d"
      },
      "execution_count": 12,
      "outputs": [
        {
          "output_type": "execute_result",
          "data": {
            "text/plain": [
              "[2, 4, 6, 8]"
            ]
          },
          "metadata": {},
          "execution_count": 12
        }
      ]
    },
    {
      "cell_type": "code",
      "source": [],
      "metadata": {
        "id": "EQTIT7UkqvFu"
      },
      "execution_count": null,
      "outputs": []
    },
    {
      "cell_type": "code",
      "source": [],
      "metadata": {
        "id": "JlVB3TDDqvC9"
      },
      "execution_count": null,
      "outputs": []
    }
  ]
}
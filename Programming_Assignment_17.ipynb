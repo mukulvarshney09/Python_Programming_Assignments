{
  "nbformat": 4,
  "nbformat_minor": 0,
  "metadata": {
    "colab": {
      "provenance": []
    },
    "kernelspec": {
      "name": "python3",
      "display_name": "Python 3"
    },
    "language_info": {
      "name": "python"
    }
  },
  "cells": [
    {
      "cell_type": "code",
      "execution_count": 1,
      "metadata": {
        "id": "umV63k_XbZUI"
      },
      "outputs": [],
      "source": [
        "#Answer 1\n",
        "\n",
        "def evenly_divisible(a, b, c):\n",
        "    return sum(i for i in range(a, b + 1) if i % c == 0)"
      ]
    },
    {
      "cell_type": "code",
      "source": [
        "evenly_divisible(1, 10, 2)"
      ],
      "metadata": {
        "colab": {
          "base_uri": "https://localhost:8080/"
        },
        "id": "NvGQNjutbnYQ",
        "outputId": "2dda29b2-6280-434c-cd8d-cdd6c56c2e19"
      },
      "execution_count": 3,
      "outputs": [
        {
          "output_type": "execute_result",
          "data": {
            "text/plain": [
              "30"
            ]
          },
          "metadata": {},
          "execution_count": 3
        }
      ]
    },
    {
      "cell_type": "code",
      "source": [
        "#Answer 2\n",
        "\n",
        "def correct_signs(expr):\n",
        "    return eval(expr)"
      ],
      "metadata": {
        "id": "UKinKi0YbnUx"
      },
      "execution_count": 4,
      "outputs": []
    },
    {
      "cell_type": "code",
      "source": [
        "correct_signs(\"13 > 44 > 33 > 1\")"
      ],
      "metadata": {
        "colab": {
          "base_uri": "https://localhost:8080/"
        },
        "id": "rN8cBmMrbnSM",
        "outputId": "f716f5e6-8ab5-4abd-fa53-9f77c9977fca"
      },
      "execution_count": 5,
      "outputs": [
        {
          "output_type": "execute_result",
          "data": {
            "text/plain": [
              "False"
            ]
          },
          "metadata": {},
          "execution_count": 5
        }
      ]
    },
    {
      "cell_type": "code",
      "source": [
        "correct_signs(\"1 < 2 < 6 < 9 > 3\")"
      ],
      "metadata": {
        "colab": {
          "base_uri": "https://localhost:8080/"
        },
        "id": "ufjW6OrBbnPe",
        "outputId": "6d2804cc-79eb-47a8-a27c-b728e382826e"
      },
      "execution_count": 6,
      "outputs": [
        {
          "output_type": "execute_result",
          "data": {
            "text/plain": [
              "True"
            ]
          },
          "metadata": {},
          "execution_count": 6
        }
      ]
    },
    {
      "cell_type": "code",
      "source": [
        "#Answer 3\n",
        "\n",
        "def replace_vowels(s, char):\n",
        "    vowels = \"aeiouAEIOU\"\n",
        "    return ''.join(char if c in vowels else c for c in s)"
      ],
      "metadata": {
        "id": "FWBGiuLXbnMx"
      },
      "execution_count": 7,
      "outputs": []
    },
    {
      "cell_type": "code",
      "source": [
        "replace_vowels(\"minnie mouse\", \"?\")"
      ],
      "metadata": {
        "colab": {
          "base_uri": "https://localhost:8080/",
          "height": 35
        },
        "id": "MYzmv2MobnJ9",
        "outputId": "464695b1-1e91-4cb1-a5ca-a842018f4b72"
      },
      "execution_count": 8,
      "outputs": [
        {
          "output_type": "execute_result",
          "data": {
            "text/plain": [
              "'m?nn?? m??s?'"
            ],
            "application/vnd.google.colaboratory.intrinsic+json": {
              "type": "string"
            }
          },
          "metadata": {},
          "execution_count": 8
        }
      ]
    },
    {
      "cell_type": "code",
      "source": [
        "#Answer 4\n",
        "\n",
        "def factorial(n):\n",
        "    if n == 0 or n == 1:\n",
        "        return 1\n",
        "    else:\n",
        "        return n * factorial(n-1)"
      ],
      "metadata": {
        "id": "Kag4BDFwbnHJ"
      },
      "execution_count": 9,
      "outputs": []
    },
    {
      "cell_type": "code",
      "source": [
        "factorial(3)"
      ],
      "metadata": {
        "colab": {
          "base_uri": "https://localhost:8080/"
        },
        "id": "X5d332uAbnEg",
        "outputId": "355fe671-078a-483e-9b8b-d9d6e3e0f1c3"
      },
      "execution_count": 10,
      "outputs": [
        {
          "output_type": "execute_result",
          "data": {
            "text/plain": [
              "6"
            ]
          },
          "metadata": {},
          "execution_count": 10
        }
      ]
    },
    {
      "cell_type": "code",
      "source": [
        "#Answer 5\n",
        "\n",
        "def hamming_distance(str1, str2):\n",
        "    return sum(c1 != c2 for c1, c2 in zip(str1, str2))"
      ],
      "metadata": {
        "id": "qH2laGYKbnBq"
      },
      "execution_count": 11,
      "outputs": []
    },
    {
      "cell_type": "code",
      "source": [
        "hamming_distance(\"abcde\", \"bcdef\")"
      ],
      "metadata": {
        "colab": {
          "base_uri": "https://localhost:8080/"
        },
        "id": "crKd7RbccSDQ",
        "outputId": "7b81ef92-b793-4639-e3d2-89ab82e10c9a"
      },
      "execution_count": 12,
      "outputs": [
        {
          "output_type": "execute_result",
          "data": {
            "text/plain": [
              "5"
            ]
          },
          "metadata": {},
          "execution_count": 12
        }
      ]
    }
  ]
}
{
  "nbformat": 4,
  "nbformat_minor": 0,
  "metadata": {
    "colab": {
      "provenance": []
    },
    "kernelspec": {
      "name": "python3",
      "display_name": "Python 3"
    },
    "language_info": {
      "name": "python"
    }
  },
  "cells": [
    {
      "cell_type": "code",
      "execution_count": 1,
      "metadata": {
        "id": "iEh3cl7A1tQV"
      },
      "outputs": [],
      "source": [
        "#Answer 1\n",
        "\n",
        "def equal(a, b, c):\n",
        "    if a == b == c:\n",
        "        return 3\n",
        "    elif a == b or b == c or a == c:\n",
        "        return 2\n",
        "    else:\n",
        "        return 0\n"
      ]
    },
    {
      "cell_type": "code",
      "source": [
        "equal(1, 1, 1)"
      ],
      "metadata": {
        "colab": {
          "base_uri": "https://localhost:8080/"
        },
        "id": "Ue9U9A4e2KZO",
        "outputId": "cadf56e1-038e-4b23-ab4b-2d72f42b039b"
      },
      "execution_count": 2,
      "outputs": [
        {
          "output_type": "execute_result",
          "data": {
            "text/plain": [
              "3"
            ]
          },
          "metadata": {},
          "execution_count": 2
        }
      ]
    },
    {
      "cell_type": "code",
      "source": [
        "#Answer 2\n",
        "\n",
        "def dict_to_list(dictionary):\n",
        "    return sorted(dictionary.items())"
      ],
      "metadata": {
        "id": "ktkhZaZa2KVz"
      },
      "execution_count": 3,
      "outputs": []
    },
    {
      "cell_type": "code",
      "source": [
        "dict_to_list({\n",
        "  \"D\": 1,\n",
        "  \"B\": 2,\n",
        "  \"C\": 3\n",
        "})"
      ],
      "metadata": {
        "colab": {
          "base_uri": "https://localhost:8080/"
        },
        "id": "2kONRn3j2KSd",
        "outputId": "7b2f5789-6cd3-404c-dd79-81cb4e07a7ff"
      },
      "execution_count": 4,
      "outputs": [
        {
          "output_type": "execute_result",
          "data": {
            "text/plain": [
              "[('B', 2), ('C', 3), ('D', 1)]"
            ]
          },
          "metadata": {},
          "execution_count": 4
        }
      ]
    },
    {
      "cell_type": "code",
      "source": [
        "#Answer 3\n",
        "\n",
        "def mapping(letters):\n",
        "    return {letter: letter.upper() for letter in letters}"
      ],
      "metadata": {
        "id": "18D1uJ-U2KP9"
      },
      "execution_count": 5,
      "outputs": []
    },
    {
      "cell_type": "code",
      "source": [
        "mapping([\"a\", \"b\", \"c\"])"
      ],
      "metadata": {
        "colab": {
          "base_uri": "https://localhost:8080/"
        },
        "id": "YVkgjUgk2KNY",
        "outputId": "0d569db2-4ad7-44e9-af00-9fe0cb66e6e0"
      },
      "execution_count": 6,
      "outputs": [
        {
          "output_type": "execute_result",
          "data": {
            "text/plain": [
              "{'a': 'A', 'b': 'B', 'c': 'C'}"
            ]
          },
          "metadata": {},
          "execution_count": 6
        }
      ]
    },
    {
      "cell_type": "code",
      "source": [
        "#Answer 4\n",
        "\n",
        "def vow_replace(s, vowel):\n",
        "    return ''.join(vowel if char in 'aeiouAEIOU' else char for char in s)"
      ],
      "metadata": {
        "id": "pIslHFeD2KKQ"
      },
      "execution_count": 7,
      "outputs": []
    },
    {
      "cell_type": "code",
      "source": [
        "vow_replace(\"cheese casserole\", \"o\")"
      ],
      "metadata": {
        "colab": {
          "base_uri": "https://localhost:8080/",
          "height": 35
        },
        "id": "9I0Q5yNs2KHs",
        "outputId": "f8643d93-f003-4887-c97a-46de39efc783"
      },
      "execution_count": 8,
      "outputs": [
        {
          "output_type": "execute_result",
          "data": {
            "text/plain": [
              "'chooso cossorolo'"
            ],
            "application/vnd.google.colaboratory.intrinsic+json": {
              "type": "string"
            }
          },
          "metadata": {},
          "execution_count": 8
        }
      ]
    },
    {
      "cell_type": "code",
      "source": [
        "#Answer 5\n",
        "\n",
        "def ascii_capitalize(s):\n",
        "    return ''.join(char.upper() if ord(char) % 2 == 0 else char.lower() for char in s)"
      ],
      "metadata": {
        "id": "WiXQLK0Y2KE3"
      },
      "execution_count": 9,
      "outputs": []
    },
    {
      "cell_type": "code",
      "source": [
        "ascii_capitalize(\"THE LITTLE MERMAID\")"
      ],
      "metadata": {
        "colab": {
          "base_uri": "https://localhost:8080/",
          "height": 35
        },
        "id": "JINWzjMZ2KCS",
        "outputId": "7f4a0ad4-6975-46e9-9eb5-4cb25dafdb18"
      },
      "execution_count": 10,
      "outputs": [
        {
          "output_type": "execute_result",
          "data": {
            "text/plain": [
              "'THe LiTTLe meRmaiD'"
            ],
            "application/vnd.google.colaboratory.intrinsic+json": {
              "type": "string"
            }
          },
          "metadata": {},
          "execution_count": 10
        }
      ]
    },
    {
      "cell_type": "code",
      "source": [],
      "metadata": {
        "id": "CQvdtHmz2J_s"
      },
      "execution_count": null,
      "outputs": []
    },
    {
      "cell_type": "code",
      "source": [],
      "metadata": {
        "id": "TzSj_9dn2J8j"
      },
      "execution_count": null,
      "outputs": []
    }
  ]
}
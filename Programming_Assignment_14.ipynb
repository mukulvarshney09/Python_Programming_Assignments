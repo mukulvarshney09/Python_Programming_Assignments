{
  "nbformat": 4,
  "nbformat_minor": 0,
  "metadata": {
    "colab": {
      "provenance": []
    },
    "kernelspec": {
      "name": "python3",
      "display_name": "Python 3"
    },
    "language_info": {
      "name": "python"
    }
  },
  "cells": [
    {
      "cell_type": "markdown",
      "source": [
        "## Question 1:\n",
        "Define a class with a generator which can iterate the numbers, which are divisible by 7, between a given range 0 and n.\n"
      ],
      "metadata": {
        "id": "gDTHfreEU5CH"
      }
    },
    {
      "cell_type": "code",
      "execution_count": 1,
      "metadata": {
        "colab": {
          "base_uri": "https://localhost:8080/"
        },
        "id": "_ELggavXUqqL",
        "outputId": "c89c3ca3-971d-4054-96a4-095170b0f7fb"
      },
      "outputs": [
        {
          "output_type": "stream",
          "name": "stdout",
          "text": [
            "[0, 7, 14, 21, 28, 35, 42, 49]\n"
          ]
        }
      ],
      "source": [
        "class DivisibleBySevenGenerator:\n",
        "    def __init__(self, n):\n",
        "        self.n = n\n",
        "\n",
        "    def generate_numbers(self):\n",
        "        for num in range(self.n + 1):\n",
        "            if num % 7 == 0:\n",
        "                yield num\n",
        "\n",
        "# Example usage:\n",
        "n_value = 50\n",
        "generator_instance = DivisibleBySevenGenerator(n_value)\n",
        "result = list(generator_instance.generate_numbers())\n",
        "print(result)"
      ]
    },
    {
      "cell_type": "markdown",
      "source": [
        "## Question 2:\n",
        "Write a program to compute the frequency of the words from the input. The output should output after sorting the key alphanumerically.\n",
        "\n",
        "Suppose the following input is supplied to the program:\n",
        "\n",
        "New to Python or choosing between Python 2 and Python 3? Read Python 2 or Python 3.\n",
        "\n",
        "Then, the output should be:\n",
        "\n",
        "2:2\n",
        "\n",
        "3.:1\n",
        "\n",
        "3?:1\n",
        "\n",
        "New:1\n",
        "\n",
        "Python:5\n",
        "\n",
        "Read:1\n",
        "\n",
        "and:1\n",
        "\n",
        "between:1\n",
        "\n",
        "choosing:1\n",
        "\n",
        "or:2\n",
        "\n",
        "to:1\n"
      ],
      "metadata": {
        "id": "nY6JWpSzU7Ah"
      }
    },
    {
      "cell_type": "code",
      "source": [
        "input_str = \"New to Python or choosing between Python 2 and Python 3? Read Python 2 or Python 3.\"\n",
        "\n",
        "word_frequency = {}\n",
        "words = input_str.split()\n",
        "\n",
        "for word in words:\n",
        "    word_frequency[word] = word_frequency.get(word, 0) + 1\n",
        "\n",
        "sorted_word_frequency = sorted(word_frequency.items())\n",
        "\n",
        "for item in sorted_word_frequency:\n",
        "    print(f\"{item[0]}:{item[1]}\")"
      ],
      "metadata": {
        "colab": {
          "base_uri": "https://localhost:8080/"
        },
        "id": "pZqVMMwcU_W_",
        "outputId": "76aac59a-f812-4e78-bcde-a92a4dd8356b"
      },
      "execution_count": 2,
      "outputs": [
        {
          "output_type": "stream",
          "name": "stdout",
          "text": [
            "2:2\n",
            "3.:1\n",
            "3?:1\n",
            "New:1\n",
            "Python:5\n",
            "Read:1\n",
            "and:1\n",
            "between:1\n",
            "choosing:1\n",
            "or:2\n",
            "to:1\n"
          ]
        }
      ]
    },
    {
      "cell_type": "markdown",
      "source": [
        "## Question 3:Define a class Person and its two child classes: Male and Female. All classes have a method \"getGender\" which can print \"Male\" for Male class and \"Female\" for Female class.\n"
      ],
      "metadata": {
        "id": "Gr_EVyrqU_vD"
      }
    },
    {
      "cell_type": "code",
      "source": [
        "class Person:\n",
        "    def getGender(self):\n",
        "        pass\n",
        "\n",
        "class Male(Person):\n",
        "    def getGender(self):\n",
        "        print(\"Male\")\n",
        "\n",
        "class Female(Person):\n",
        "    def getGender(self):\n",
        "        print(\"Female\")\n",
        "\n",
        "# Example usage:\n",
        "male_instance = Male()\n",
        "male_instance.getGender()\n",
        "\n",
        "female_instance = Female()\n",
        "female_instance.getGender()"
      ],
      "metadata": {
        "colab": {
          "base_uri": "https://localhost:8080/"
        },
        "id": "ps_IumS6VDnN",
        "outputId": "c917cbab-67ec-48ac-d9b6-e0dc99200fa2"
      },
      "execution_count": 3,
      "outputs": [
        {
          "output_type": "stream",
          "name": "stdout",
          "text": [
            "Male\n",
            "Female\n"
          ]
        }
      ]
    },
    {
      "cell_type": "markdown",
      "source": [
        "## Question 4: Please write a program to generate all sentences where subject is in [\"I\", \"You\"] and verb is in [\"Play\", \"Love\"] and the object is in [\"Hockey\",\"Football\"].\n"
      ],
      "metadata": {
        "id": "LMjhaYQmVEED"
      }
    },
    {
      "cell_type": "code",
      "source": [
        "subjects = [\"I\", \"You\"]\n",
        "verbs = [\"Play\", \"Love\"]\n",
        "objects = [\"Hockey\", \"Football\"]\n",
        "\n",
        "sentences = [(subject, verb, obj) for subject in subjects for verb in verbs for obj in objects]\n",
        "\n",
        "print(sentences)"
      ],
      "metadata": {
        "colab": {
          "base_uri": "https://localhost:8080/"
        },
        "id": "pN9W0J_-VHf2",
        "outputId": "875e5878-968e-4aac-f3b7-8a595320cb74"
      },
      "execution_count": 4,
      "outputs": [
        {
          "output_type": "stream",
          "name": "stdout",
          "text": [
            "[('I', 'Play', 'Hockey'), ('I', 'Play', 'Football'), ('I', 'Love', 'Hockey'), ('I', 'Love', 'Football'), ('You', 'Play', 'Hockey'), ('You', 'Play', 'Football'), ('You', 'Love', 'Hockey'), ('You', 'Love', 'Football')]\n"
          ]
        }
      ]
    },
    {
      "cell_type": "markdown",
      "source": [
        "## Question 5: Please write a program to compress and decompress the string \"hello world!hello world!hello world!hello world!\".\n"
      ],
      "metadata": {
        "id": "9AFYuee6VH3S"
      }
    },
    {
      "cell_type": "code",
      "source": [
        "import zlib\n",
        "\n",
        "original_string = \"hello world!hello world!hello world!hello world!\"\n",
        "\n",
        "compressed_data = zlib.compress(original_string.encode())\n",
        "decompressed_string = zlib.decompress(compressed_data).decode()\n",
        "\n",
        "print(\"Compressed:\", compressed_data)\n",
        "print(\"Decompressed:\", decompressed_string)"
      ],
      "metadata": {
        "colab": {
          "base_uri": "https://localhost:8080/"
        },
        "id": "XICaOdklVLk9",
        "outputId": "d4864611-7ae2-4844-dfa4-6b7bfac781dc"
      },
      "execution_count": 5,
      "outputs": [
        {
          "output_type": "stream",
          "name": "stdout",
          "text": [
            "Compressed: b'x\\x9c\\xcbH\\xcd\\xc9\\xc9W(\\xcf/\\xcaIQ\\xcc \\x82\\r\\x00\\xbd[\\x11\\xf5'\n",
            "Decompressed: hello world!hello world!hello world!hello world!\n"
          ]
        }
      ]
    },
    {
      "cell_type": "markdown",
      "source": [
        "## Question 6: Please write a binary search function which searches an item in a sorted list. The function should return the index of element to be searched in the list.\n"
      ],
      "metadata": {
        "id": "7eNlC6WZVL6m"
      }
    },
    {
      "cell_type": "code",
      "source": [
        "sorted_list_example = [1, 2, 3, 4, 5, 6, 7, 8, 9]\n",
        "target_example = 5\n",
        "\n",
        "low, high = 0, len(sorted_list_example) - 1\n",
        "\n",
        "while low <= high:\n",
        "    mid = (low + high) // 2\n",
        "    mid_value = sorted_list_example[mid]\n",
        "\n",
        "    if mid_value == target_example:\n",
        "        print(\"Index of\", target_example, \"is:\", mid)\n",
        "        break\n",
        "    elif mid_value < target_example:\n",
        "        low = mid + 1\n",
        "    else:\n",
        "        high = mid - 1\n",
        "else:\n",
        "    print(\"Element not found in the list.\")"
      ],
      "metadata": {
        "colab": {
          "base_uri": "https://localhost:8080/"
        },
        "id": "RdJ5zEAYVO-4",
        "outputId": "4c22c75e-d113-40dd-cb44-f3dbf85ec208"
      },
      "execution_count": 6,
      "outputs": [
        {
          "output_type": "stream",
          "name": "stdout",
          "text": [
            "Index of 5 is: 4\n"
          ]
        }
      ]
    }
  ]
}
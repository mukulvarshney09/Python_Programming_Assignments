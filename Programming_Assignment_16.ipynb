{
  "nbformat": 4,
  "nbformat_minor": 0,
  "metadata": {
    "colab": {
      "provenance": []
    },
    "kernelspec": {
      "name": "python3",
      "display_name": "Python 3"
    },
    "language_info": {
      "name": "python"
    }
  },
  "cells": [
    {
      "cell_type": "code",
      "execution_count": 1,
      "metadata": {
        "id": "_EKE5WF8ZrS7"
      },
      "outputs": [],
      "source": [
        "#Answer 1\n",
        "\n",
        "def stutter(word):\n",
        "    return f\"{word[:2]}... {word[:2]}... {word}?\""
      ]
    },
    {
      "cell_type": "code",
      "source": [
        "stutter(\"incredible\")"
      ],
      "metadata": {
        "colab": {
          "base_uri": "https://localhost:8080/",
          "height": 35
        },
        "id": "mI7tlM88Z5l-",
        "outputId": "bf76c9ef-baa5-442d-d621-d74caa017d33"
      },
      "execution_count": 2,
      "outputs": [
        {
          "output_type": "execute_result",
          "data": {
            "text/plain": [
              "'in... in... incredible?'"
            ],
            "application/vnd.google.colaboratory.intrinsic+json": {
              "type": "string"
            }
          },
          "metadata": {},
          "execution_count": 2
        }
      ]
    },
    {
      "cell_type": "code",
      "source": [
        "#Answer 2\n",
        "\n",
        "import math\n",
        "\n",
        "def radians_to_degrees(radians):\n",
        "    return round(math.degrees(radians), 1)"
      ],
      "metadata": {
        "id": "Z4H51MqBaD7F"
      },
      "execution_count": 3,
      "outputs": []
    },
    {
      "cell_type": "code",
      "source": [
        "radians_to_degrees(1)"
      ],
      "metadata": {
        "colab": {
          "base_uri": "https://localhost:8080/"
        },
        "id": "aOlGOxJ1aJgt",
        "outputId": "79064ae4-4f04-478a-d10e-8bc227d464c9"
      },
      "execution_count": 4,
      "outputs": [
        {
          "output_type": "execute_result",
          "data": {
            "text/plain": [
              "57.3"
            ]
          },
          "metadata": {},
          "execution_count": 4
        }
      ]
    },
    {
      "cell_type": "code",
      "source": [
        "#Answer 3\n",
        "\n",
        "def is_curzon(num):\n",
        "    return (2 ** num + 1) % (2 * num + 1) == 0"
      ],
      "metadata": {
        "id": "WWe4AYRkaJdS"
      },
      "execution_count": 5,
      "outputs": []
    },
    {
      "cell_type": "code",
      "source": [
        "is_curzon(5)"
      ],
      "metadata": {
        "colab": {
          "base_uri": "https://localhost:8080/"
        },
        "id": "e21QVMb4aJaQ",
        "outputId": "c01b735a-7593-437c-d54e-e4052e6058dc"
      },
      "execution_count": 6,
      "outputs": [
        {
          "output_type": "execute_result",
          "data": {
            "text/plain": [
              "True"
            ]
          },
          "metadata": {},
          "execution_count": 6
        }
      ]
    },
    {
      "cell_type": "code",
      "source": [
        "#Answer 4\n",
        "\n",
        "import math\n",
        "\n",
        "def area_of_hexagon(x):\n",
        "    return round((3 * math.sqrt(3) * x ** 2) / 2, 1)"
      ],
      "metadata": {
        "id": "SkpcgJPwaJPI"
      },
      "execution_count": 7,
      "outputs": []
    },
    {
      "cell_type": "code",
      "source": [
        "area_of_hexagon(2)"
      ],
      "metadata": {
        "colab": {
          "base_uri": "https://localhost:8080/"
        },
        "id": "cGnEtNhHacmf",
        "outputId": "d6c49d70-716b-48f9-bbf2-40cb18af699e"
      },
      "execution_count": 8,
      "outputs": [
        {
          "output_type": "execute_result",
          "data": {
            "text/plain": [
              "10.4"
            ]
          },
          "metadata": {},
          "execution_count": 8
        }
      ]
    },
    {
      "cell_type": "code",
      "source": [
        "#Answer 5\n",
        "\n",
        "def binary(decimal):\n",
        "    return bin(decimal)[2:]"
      ],
      "metadata": {
        "id": "mulYRyKAacjB"
      },
      "execution_count": 9,
      "outputs": []
    },
    {
      "cell_type": "code",
      "source": [
        "binary(10)"
      ],
      "metadata": {
        "colab": {
          "base_uri": "https://localhost:8080/",
          "height": 35
        },
        "id": "gJUu7WkCacgJ",
        "outputId": "6df2f116-c3a6-4e66-d42d-24e866b72776"
      },
      "execution_count": 10,
      "outputs": [
        {
          "output_type": "execute_result",
          "data": {
            "text/plain": [
              "'1010'"
            ],
            "application/vnd.google.colaboratory.intrinsic+json": {
              "type": "string"
            }
          },
          "metadata": {},
          "execution_count": 10
        }
      ]
    },
    {
      "cell_type": "code",
      "source": [],
      "metadata": {
        "id": "ZkmrOGoIacTj"
      },
      "execution_count": null,
      "outputs": []
    }
  ]
}
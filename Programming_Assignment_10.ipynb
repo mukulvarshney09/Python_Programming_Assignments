{
  "nbformat": 4,
  "nbformat_minor": 0,
  "metadata": {
    "colab": {
      "provenance": []
    },
    "kernelspec": {
      "name": "python3",
      "display_name": "Python 3"
    },
    "language_info": {
      "name": "python"
    }
  },
  "cells": [
    {
      "cell_type": "markdown",
      "source": [
        "## 1.\tWrite a Python program to find sum of elements in list?"
      ],
      "metadata": {
        "id": "Gd9X9qXZiHgS"
      }
    },
    {
      "cell_type": "code",
      "execution_count": 12,
      "metadata": {
        "colab": {
          "base_uri": "https://localhost:8080/"
        },
        "id": "dVNYkxQGhmP0",
        "outputId": "bef1bfd5-00f1-44b2-970a-1448cb486863"
      },
      "outputs": [
        {
          "output_type": "stream",
          "name": "stdout",
          "text": [
            "172\n"
          ]
        }
      ],
      "source": [
        "l1 = [10,4,58,100]\n",
        "s = 0\n",
        "\n",
        "for i in l1:\n",
        "  s += i\n",
        "\n",
        "print(s)"
      ]
    },
    {
      "cell_type": "markdown",
      "source": [
        "## 2.\tWrite a Python program to Multiply all numbers in the list?"
      ],
      "metadata": {
        "id": "7s5SrY96iJmu"
      }
    },
    {
      "cell_type": "code",
      "source": [
        "l1 = [10,4,58,10,2,15]\n",
        "m = 1\n",
        "\n",
        "for i in l1:\n",
        "  m *= i\n",
        "\n",
        "print(m)"
      ],
      "metadata": {
        "colab": {
          "base_uri": "https://localhost:8080/"
        },
        "id": "ZsaBZxUviMVY",
        "outputId": "9f04a3fe-6d84-4a7d-8ba0-b14e838dfca6"
      },
      "execution_count": 14,
      "outputs": [
        {
          "output_type": "stream",
          "name": "stdout",
          "text": [
            "696000\n"
          ]
        }
      ]
    },
    {
      "cell_type": "markdown",
      "source": [
        "## 3.\tWrite a Python program to find smallest number in a list?"
      ],
      "metadata": {
        "id": "JSkv0dlRiMp7"
      }
    },
    {
      "cell_type": "code",
      "source": [
        "l1 = [10,4,58,10,2,15]\n",
        "\n",
        "list_min = min(l1)\n",
        "\n",
        "list_min"
      ],
      "metadata": {
        "colab": {
          "base_uri": "https://localhost:8080/"
        },
        "id": "ASawmt7YiPgd",
        "outputId": "b7c2756c-0f95-485c-bb8d-9bc7af117b2c"
      },
      "execution_count": 15,
      "outputs": [
        {
          "output_type": "execute_result",
          "data": {
            "text/plain": [
              "2"
            ]
          },
          "metadata": {},
          "execution_count": 15
        }
      ]
    },
    {
      "cell_type": "markdown",
      "source": [
        "## 4.\tWrite a Python program to find largest number in a list?"
      ],
      "metadata": {
        "id": "Mj_L9JGAiP-7"
      }
    },
    {
      "cell_type": "code",
      "source": [
        "l1 = [10,4,58,10,2,15]\n",
        "\n",
        "list_max = max(l1)\n",
        "\n",
        "list_max"
      ],
      "metadata": {
        "colab": {
          "base_uri": "https://localhost:8080/"
        },
        "id": "kFSzkP52iTP_",
        "outputId": "64630611-5468-4f76-9ab5-a5fd539b8a5f"
      },
      "execution_count": 16,
      "outputs": [
        {
          "output_type": "execute_result",
          "data": {
            "text/plain": [
              "58"
            ]
          },
          "metadata": {},
          "execution_count": 16
        }
      ]
    },
    {
      "cell_type": "markdown",
      "source": [
        "## 5.\tWrite a Python program to find second largest number in a list?"
      ],
      "metadata": {
        "id": "pgXR-h_TiTou"
      }
    },
    {
      "cell_type": "code",
      "source": [
        "l1 = [10,4,58,10,2,15]\n",
        "\n",
        "sorted_list = sorted(set(l1),reverse = True)\n",
        "\n",
        "if len(sorted_list) >= 2:\n",
        "  sec_larg = sorted_list[1]\n",
        "  print(\"Second largest in the list is: \",sec_larg)"
      ],
      "metadata": {
        "colab": {
          "base_uri": "https://localhost:8080/"
        },
        "id": "WdmwCeP1iWhy",
        "outputId": "6d15ffb9-1634-4a83-cdd9-338d5a18437f"
      },
      "execution_count": 17,
      "outputs": [
        {
          "output_type": "stream",
          "name": "stdout",
          "text": [
            "Second largest in the list is:  15\n"
          ]
        }
      ]
    },
    {
      "cell_type": "markdown",
      "source": [
        "## 6.\tWrite a Python program to find N largest elements from a list?"
      ],
      "metadata": {
        "id": "PGY32rndiW4t"
      }
    },
    {
      "cell_type": "code",
      "source": [
        "l1 = [10, 5, 8, 20, 15]\n",
        "\n",
        "#Specify the value of N\n",
        "N = 3\n",
        "\n",
        "if len(l1) >= N:\n",
        "    N_largest_elements = sorted(l1, reverse=True)[:N]\n",
        "    print(f\"{N} largest elements in the list:\", N_largest_elements)\n",
        "else:\n",
        "    print(\"The list does not have enough elements.\")"
      ],
      "metadata": {
        "colab": {
          "base_uri": "https://localhost:8080/"
        },
        "id": "i122OfbQiZ0H",
        "outputId": "947bf22c-1b30-4ede-f223-79736d7349d4"
      },
      "execution_count": 18,
      "outputs": [
        {
          "output_type": "stream",
          "name": "stdout",
          "text": [
            "3 largest elements in the list: [20, 15, 10]\n"
          ]
        }
      ]
    },
    {
      "cell_type": "markdown",
      "source": [
        "## 7.\tWrite a Python program to print even numbers in a list?"
      ],
      "metadata": {
        "id": "xcmI_fmWiaLT"
      }
    },
    {
      "cell_type": "code",
      "source": [
        "l1 = [2,14,13,19,21,65,43,44,69,68]\n",
        "\n",
        "for i in l1:\n",
        "  if i % 2 == 0:\n",
        "    print(i)"
      ],
      "metadata": {
        "colab": {
          "base_uri": "https://localhost:8080/"
        },
        "id": "k8wDmldWickI",
        "outputId": "2123bdb2-d64c-4450-b84d-04246e7f6427"
      },
      "execution_count": 5,
      "outputs": [
        {
          "output_type": "stream",
          "name": "stdout",
          "text": [
            "2\n",
            "14\n",
            "44\n",
            "68\n"
          ]
        }
      ]
    },
    {
      "cell_type": "markdown",
      "source": [
        "## 8.\tWrite a Python program to print odd numbers in a List?"
      ],
      "metadata": {
        "id": "Vbr0Rxydic4t"
      }
    },
    {
      "cell_type": "code",
      "source": [
        "l1 = [2,14,13,19,21,65,43,44,69,68]\n",
        "\n",
        "for i in l1:\n",
        "  if i % 2 != 0:\n",
        "    print(i)"
      ],
      "metadata": {
        "colab": {
          "base_uri": "https://localhost:8080/"
        },
        "id": "nDa1lTt3ifao",
        "outputId": "3e0ad148-b5b7-4460-8641-b7333f5dfa51"
      },
      "execution_count": 6,
      "outputs": [
        {
          "output_type": "stream",
          "name": "stdout",
          "text": [
            "13\n",
            "19\n",
            "21\n",
            "65\n",
            "43\n",
            "69\n"
          ]
        }
      ]
    },
    {
      "cell_type": "markdown",
      "source": [
        "## 9.\tWrite a Python program to Remove empty List from List?"
      ],
      "metadata": {
        "id": "Cpb8IKT1ifv-"
      }
    },
    {
      "cell_type": "code",
      "source": [
        "l1 = [1, [], 3, [], 5, [], []]\n",
        "\n",
        "filtered_list = [sublist for sublist in l1 if sublist]\n",
        "\n",
        "print(\"List after removing empty lists:\", filtered_list)"
      ],
      "metadata": {
        "colab": {
          "base_uri": "https://localhost:8080/"
        },
        "id": "PDAWVbhiih-a",
        "outputId": "74c77540-60ba-463d-9ce0-88665f909814"
      },
      "execution_count": 19,
      "outputs": [
        {
          "output_type": "stream",
          "name": "stdout",
          "text": [
            "List after removing empty lists: [1, 3, 5]\n"
          ]
        }
      ]
    },
    {
      "cell_type": "markdown",
      "source": [
        "## 10.\tWrite a Python program to Cloning or Copying a list?"
      ],
      "metadata": {
        "id": "h2Uy_pEZiiR6"
      }
    },
    {
      "cell_type": "code",
      "source": [
        "l1 = [10, 5, 8, 20, 15]\n",
        "\n",
        "copied_list = l1.copy()\n",
        "\n",
        "print(\"Copied list is: \",copied_list)"
      ],
      "metadata": {
        "colab": {
          "base_uri": "https://localhost:8080/"
        },
        "id": "S8REG842ikkR",
        "outputId": "6e4d6bc8-59b1-4b8f-9b73-dd2bad3f8b59"
      },
      "execution_count": 20,
      "outputs": [
        {
          "output_type": "stream",
          "name": "stdout",
          "text": [
            "Copied list is:  [10, 5, 8, 20, 15]\n"
          ]
        }
      ]
    },
    {
      "cell_type": "markdown",
      "source": [
        "## 11.\tWrite a Python program to Count occurrences of an element in a list?"
      ],
      "metadata": {
        "id": "6aJiMAE2ik2M"
      }
    },
    {
      "cell_type": "code",
      "source": [
        "l1 = [10, 5, 5,5,5,8,8,8, 20,20, 15]\n",
        "\n",
        "element_to_count = 5\n",
        "\n",
        "occurance = l1.count(element_to_count)\n",
        "print(f\"{element_to_count} is {occurance} times in the list\")"
      ],
      "metadata": {
        "colab": {
          "base_uri": "https://localhost:8080/"
        },
        "id": "KMbBDwXiinQ5",
        "outputId": "5c1567c1-8bbc-40d2-bc2a-2a91682a5579"
      },
      "execution_count": 22,
      "outputs": [
        {
          "output_type": "stream",
          "name": "stdout",
          "text": [
            "5 is 4 times in the list\n"
          ]
        }
      ]
    }
  ]
}
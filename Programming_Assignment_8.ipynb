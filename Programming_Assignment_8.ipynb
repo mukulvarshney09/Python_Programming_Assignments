{
  "nbformat": 4,
  "nbformat_minor": 0,
  "metadata": {
    "colab": {
      "provenance": []
    },
    "kernelspec": {
      "name": "python3",
      "display_name": "Python 3"
    },
    "language_info": {
      "name": "python"
    }
  },
  "cells": [
    {
      "cell_type": "markdown",
      "source": [
        "## 1.\tWrite a Python Program to Add Two Matrices?"
      ],
      "metadata": {
        "id": "KMbx5xDFwPdY"
      }
    },
    {
      "cell_type": "code",
      "execution_count": 1,
      "metadata": {
        "colab": {
          "base_uri": "https://localhost:8080/"
        },
        "id": "tdB2TggqwKfT",
        "outputId": "cb50396f-24c9-4613-c718-cdfa9b53edf0"
      },
      "outputs": [
        {
          "output_type": "stream",
          "name": "stdout",
          "text": [
            "The sum of the two matrices is: [[11 13 15]\n",
            " [17 19 21]\n",
            " [23 25 27]]\n"
          ]
        }
      ],
      "source": [
        "import numpy as np\n",
        "\n",
        "matrix_a = np.array([[1, 2, 3], [4, 5, 6], [7, 8, 9]])\n",
        "matrix_b = np.array([[10, 11, 12], [13, 14, 15], [16, 17, 18]])\n",
        "\n",
        "matrix_sum = matrix_a + matrix_b\n",
        "\n",
        "print(\"The sum of the two matrices is:\", matrix_sum)"
      ]
    },
    {
      "cell_type": "markdown",
      "source": [
        "## 2.\tWrite a Python Program to Multiply Two Matrices?"
      ],
      "metadata": {
        "id": "K85zJCLfwQsy"
      }
    },
    {
      "cell_type": "code",
      "source": [
        "import numpy as np\n",
        "\n",
        "matrix_a = np.array([[1, 2, 3], [4, 5, 6]])\n",
        "\n",
        "matrix_b = np.array([[7, 8], [9, 10], [11, 12]])\n",
        "\n",
        "matrix_product = np.dot(matrix_a, matrix_b)\n",
        "\n",
        "print(\"The product of the two matrices is:\")\n",
        "print(matrix_product)"
      ],
      "metadata": {
        "colab": {
          "base_uri": "https://localhost:8080/"
        },
        "id": "9CHWOMCHwRFS",
        "outputId": "b7d4c529-0beb-42e0-d7e4-9dfa3cf6f995"
      },
      "execution_count": 2,
      "outputs": [
        {
          "output_type": "stream",
          "name": "stdout",
          "text": [
            "The product of the two matrices is:\n",
            "[[ 58  64]\n",
            " [139 154]]\n"
          ]
        }
      ]
    },
    {
      "cell_type": "markdown",
      "source": [
        "## 3.\tWrite a Python Program to Transpose a Matrix?"
      ],
      "metadata": {
        "id": "J2rQSEhJwRZ3"
      }
    },
    {
      "cell_type": "code",
      "source": [
        "import numpy as np\n",
        "\n",
        "matrix = np.array([[1, 2, 3], [4, 5, 6], [7, 8, 9]])\n",
        "\n",
        "transpose_matrix = matrix.transpose()\n",
        "\n",
        "# Print the original and transposed matrix\n",
        "print(\"Original matrix:\")\n",
        "print(matrix)\n",
        "print(\"Transposed matrix:\")\n",
        "print(transpose_matrix)"
      ],
      "metadata": {
        "colab": {
          "base_uri": "https://localhost:8080/"
        },
        "id": "-TMY_P7ewR08",
        "outputId": "adf3825f-1858-470a-a023-e511f530f922"
      },
      "execution_count": 3,
      "outputs": [
        {
          "output_type": "stream",
          "name": "stdout",
          "text": [
            "Original matrix:\n",
            "[[1 2 3]\n",
            " [4 5 6]\n",
            " [7 8 9]]\n",
            "Transposed matrix:\n",
            "[[1 4 7]\n",
            " [2 5 8]\n",
            " [3 6 9]]\n"
          ]
        }
      ]
    },
    {
      "cell_type": "markdown",
      "source": [
        "## 4.\tWrite a Python Program to Sort Words in Alphabetic Order?"
      ],
      "metadata": {
        "id": "hFy02IYgwSKi"
      }
    },
    {
      "cell_type": "code",
      "source": [
        "words = ['hello', 'world', 'python', 'programming', 'alphabetical']\n",
        "\n",
        "sorted_words = sorted(words)\n",
        "print(\"The words in alphabetical order are:\", sorted_words)"
      ],
      "metadata": {
        "colab": {
          "base_uri": "https://localhost:8080/"
        },
        "id": "EYhgiRX7wSjB",
        "outputId": "36ad0217-94db-47cc-9bbc-9be644eaabbd"
      },
      "execution_count": 4,
      "outputs": [
        {
          "output_type": "stream",
          "name": "stdout",
          "text": [
            "The words in alphabetical order are: ['alphabetical', 'hello', 'programming', 'python', 'world']\n"
          ]
        }
      ]
    },
    {
      "cell_type": "markdown",
      "source": [
        "## 5.\tWrite a Python Program to Remove Punctuation From a String?"
      ],
      "metadata": {
        "id": "rGc6BlrewTED"
      }
    },
    {
      "cell_type": "code",
      "source": [
        "string = \"Hello, world! It's a beautiful day! :)\"\n",
        "\n",
        "punctuation_chars = [\"'\", '\"', \",\", \".\", \"!\", \"?\", \";\", \":\"]\n",
        "\n",
        "for char in punctuation_chars:\n",
        "  string = string.replace(char, \"\")\n",
        "\n",
        "print(string)"
      ],
      "metadata": {
        "colab": {
          "base_uri": "https://localhost:8080/"
        },
        "id": "5do8qOgXyIaN",
        "outputId": "a44ec841-6f3e-48e9-eee6-35f6b05380b5"
      },
      "execution_count": 7,
      "outputs": [
        {
          "output_type": "stream",
          "name": "stdout",
          "text": [
            "Hello world Its a beautiful day )\n"
          ]
        }
      ]
    }
  ]
}
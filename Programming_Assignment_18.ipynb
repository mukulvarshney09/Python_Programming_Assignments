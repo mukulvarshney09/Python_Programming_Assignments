{
  "nbformat": 4,
  "nbformat_minor": 0,
  "metadata": {
    "colab": {
      "provenance": []
    },
    "kernelspec": {
      "name": "python3",
      "display_name": "Python 3"
    },
    "language_info": {
      "name": "python"
    }
  },
  "cells": [
    {
      "cell_type": "code",
      "execution_count": 1,
      "metadata": {
        "id": "ololax53opSG"
      },
      "outputs": [],
      "source": [
        "#Answer 1\n",
        "\n",
        "def filter_list(lst):\n",
        "    return [i for i in lst if type(i) == int]"
      ]
    },
    {
      "cell_type": "code",
      "source": [
        "filter_list([1, \"a\", \"b\", 0, 15])"
      ],
      "metadata": {
        "colab": {
          "base_uri": "https://localhost:8080/"
        },
        "id": "jN8BrQlEo11O",
        "outputId": "569adb7f-d72e-4c91-c617-6642395710bd"
      },
      "execution_count": 2,
      "outputs": [
        {
          "output_type": "execute_result",
          "data": {
            "text/plain": [
              "[1, 0, 15]"
            ]
          },
          "metadata": {},
          "execution_count": 2
        }
      ]
    },
    {
      "cell_type": "code",
      "source": [
        "#Answer 2\n",
        "\n",
        "def reverse(s):\n",
        "    return s[::-1].swapcase()"
      ],
      "metadata": {
        "id": "FV6h-eAIo3j5"
      },
      "execution_count": 3,
      "outputs": []
    },
    {
      "cell_type": "code",
      "source": [
        "reverse(\"Hello World\")"
      ],
      "metadata": {
        "colab": {
          "base_uri": "https://localhost:8080/",
          "height": 35
        },
        "id": "1mmXA447o78E",
        "outputId": "05de9f9b-c2a5-4f1d-8a18-e25a11e757d4"
      },
      "execution_count": 4,
      "outputs": [
        {
          "output_type": "execute_result",
          "data": {
            "text/plain": [
              "'DLROw OLLEh'"
            ],
            "application/vnd.google.colaboratory.intrinsic+json": {
              "type": "string"
            }
          },
          "metadata": {},
          "execution_count": 4
        }
      ]
    },
    {
      "cell_type": "code",
      "source": [
        "#Answer 3\n",
        "\n",
        "writeyourcodehere = [1, 2, 3, 4, 5, 6]\n",
        "first, *middle, last = writeyourcodehere\n",
        "print(first)\n",
        "print(middle)\n",
        "print(last)"
      ],
      "metadata": {
        "colab": {
          "base_uri": "https://localhost:8080/"
        },
        "id": "lwwVfVs_pAtK",
        "outputId": "f93c1279-2f60-4767-cb0d-3c42fb4e6894"
      },
      "execution_count": 5,
      "outputs": [
        {
          "output_type": "stream",
          "name": "stdout",
          "text": [
            "1\n",
            "[2, 3, 4, 5]\n",
            "6\n"
          ]
        }
      ]
    },
    {
      "cell_type": "code",
      "source": [
        "#Answer 4\n",
        "\n",
        "def factorial(n):\n",
        "    return 1 if n == 0 or n == 1 else n * factorial(n-1)"
      ],
      "metadata": {
        "id": "Ct0mQwuzpQDX"
      },
      "execution_count": 6,
      "outputs": []
    },
    {
      "cell_type": "code",
      "source": [
        "factorial(0)"
      ],
      "metadata": {
        "colab": {
          "base_uri": "https://localhost:8080/"
        },
        "id": "1xPYrqp3pV-e",
        "outputId": "308d4020-b362-43f5-9403-7f497748f9ca"
      },
      "execution_count": 7,
      "outputs": [
        {
          "output_type": "execute_result",
          "data": {
            "text/plain": [
              "1"
            ]
          },
          "metadata": {},
          "execution_count": 7
        }
      ]
    },
    {
      "cell_type": "code",
      "source": [
        "#Answer 5\n",
        "\n",
        "def move_to_end(lst, element):\n",
        "    return [i for i in lst if i != element] + [i for i in lst if i == element]"
      ],
      "metadata": {
        "id": "JO7O6z6zpXG2"
      },
      "execution_count": 8,
      "outputs": []
    },
    {
      "cell_type": "code",
      "source": [
        "move_to_end([1, 3, 2, 4, 4, 1], 1)"
      ],
      "metadata": {
        "colab": {
          "base_uri": "https://localhost:8080/"
        },
        "id": "A3eAsIdgpatR",
        "outputId": "db391c80-38c5-42ff-9f6e-f0e034575949"
      },
      "execution_count": 9,
      "outputs": [
        {
          "output_type": "execute_result",
          "data": {
            "text/plain": [
              "[3, 2, 4, 4, 1, 1]"
            ]
          },
          "metadata": {},
          "execution_count": 9
        }
      ]
    }
  ]
}
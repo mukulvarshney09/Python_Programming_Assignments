{
  "nbformat": 4,
  "nbformat_minor": 0,
  "metadata": {
    "colab": {
      "provenance": []
    },
    "kernelspec": {
      "name": "python3",
      "display_name": "Python 3"
    },
    "language_info": {
      "name": "python"
    }
  },
  "cells": [
    {
      "cell_type": "markdown",
      "source": [
        "## 1.\tWrite a Python Program to Display Fibonacci Sequence Using Recursion?"
      ],
      "metadata": {
        "id": "vUrwCOfItFEs"
      }
    },
    {
      "cell_type": "code",
      "execution_count": null,
      "metadata": {
        "colab": {
          "base_uri": "https://localhost:8080/"
        },
        "id": "jwXH2C6fs6-Q",
        "outputId": "4eae4e4e-717e-4711-a08c-8b027caaabe4"
      },
      "outputs": [
        {
          "output_type": "stream",
          "name": "stdout",
          "text": [
            "Fibonacci Sequence:\n",
            "0\n",
            "1\n",
            "1\n",
            "2\n",
            "3\n"
          ]
        }
      ],
      "source": [
        "def fibonacci(n):\n",
        "    if n <= 1:\n",
        "        return n\n",
        "    else:\n",
        "        return fibonacci(n - 1) + fibonacci(n - 2)\n",
        "\n",
        "#Number of terms in the sequence\n",
        "terms = 5\n",
        "\n",
        "print(\"Fibonacci Sequence:\")\n",
        "for i in range(terms):\n",
        "    print(fibonacci(i))\n"
      ]
    },
    {
      "cell_type": "markdown",
      "source": [
        "## 2.\tWrite a Python Program to Find Factorial of Number Using Recursion?"
      ],
      "metadata": {
        "id": "wTnAYYnvtHKB"
      }
    },
    {
      "cell_type": "code",
      "source": [
        "def factorial(n):\n",
        "    if n == 0 or n == 1:\n",
        "        return 1\n",
        "    else:\n",
        "        return n * factorial(n - 1)\n",
        "\n",
        "#Number for which factorial is calculated\n",
        "num = 5\n",
        "\n",
        "print(f\"The factorial of {num} is:\", factorial(num))"
      ],
      "metadata": {
        "colab": {
          "base_uri": "https://localhost:8080/"
        },
        "id": "nNEeFCugtHn8",
        "outputId": "e1b92dd0-fc48-481e-9547-aebd896a50d2"
      },
      "execution_count": null,
      "outputs": [
        {
          "output_type": "stream",
          "name": "stdout",
          "text": [
            "The factorial of 5 is: 120\n"
          ]
        }
      ]
    },
    {
      "cell_type": "markdown",
      "source": [
        "## 3.\tWrite a Python Program to calculate your Body Mass Index?"
      ],
      "metadata": {
        "id": "prfByeT9tH8j"
      }
    },
    {
      "cell_type": "code",
      "source": [
        "weight = 70\n",
        "height = 1.75\n",
        "\n",
        "bmi = weight / (height ** 2)\n",
        "print(f\"Your Body Mass Index (BMI) is: {bmi:.2f}\")"
      ],
      "metadata": {
        "colab": {
          "base_uri": "https://localhost:8080/"
        },
        "id": "tqAmqzintIXY",
        "outputId": "3125f535-5dbd-4aea-e99f-0d4089c154ee"
      },
      "execution_count": null,
      "outputs": [
        {
          "output_type": "stream",
          "name": "stdout",
          "text": [
            "Your Body Mass Index (BMI) is: 22.86\n"
          ]
        }
      ]
    },
    {
      "cell_type": "markdown",
      "source": [
        "## 4.\tWrite a Python Program to calculate the natural logarithm of any number?"
      ],
      "metadata": {
        "id": "sabc3FfxtIrK"
      }
    },
    {
      "cell_type": "code",
      "source": [
        "import math\n",
        "\n",
        "number = 10\n",
        "logarithm = math.log(number)\n",
        "\n",
        "print(f\"The natural logarithm of {number} is: {logarithm}\")"
      ],
      "metadata": {
        "colab": {
          "base_uri": "https://localhost:8080/"
        },
        "id": "YIc0L09VtJFL",
        "outputId": "030b7557-e817-4cff-ddae-8b6c599508dc"
      },
      "execution_count": null,
      "outputs": [
        {
          "output_type": "stream",
          "name": "stdout",
          "text": [
            "The natural logarithm of 10 is: 2.302585092994046\n"
          ]
        }
      ]
    },
    {
      "cell_type": "markdown",
      "source": [
        "## 5.\tWrite a Python Program for cube sum of first n natural numbers?"
      ],
      "metadata": {
        "id": "U46hffxDtJo2"
      }
    },
    {
      "cell_type": "code",
      "source": [],
      "metadata": {
        "id": "lkfRpb-XtKAz"
      },
      "execution_count": null,
      "outputs": []
    }
  ]
}
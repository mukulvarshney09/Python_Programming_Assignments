{
  "nbformat": 4,
  "nbformat_minor": 0,
  "metadata": {
    "colab": {
      "provenance": []
    },
    "kernelspec": {
      "name": "python3",
      "display_name": "Python 3"
    },
    "language_info": {
      "name": "python"
    }
  },
  "cells": [
    {
      "cell_type": "code",
      "execution_count": 1,
      "metadata": {
        "id": "mYwKipVOxR_Z"
      },
      "outputs": [],
      "source": [
        "# Answer 1\n",
        "\n",
        "def list_operation(x, y, n):\n",
        "    return [num for num in range(x, y+1) if num % n == 0]"
      ]
    },
    {
      "cell_type": "code",
      "source": [
        "list_operation(1, 10, 3)"
      ],
      "metadata": {
        "colab": {
          "base_uri": "https://localhost:8080/"
        },
        "id": "MEk4clyaxfqk",
        "outputId": "124b5227-979a-4de2-f3a9-e3514b4f63d0"
      },
      "execution_count": 2,
      "outputs": [
        {
          "output_type": "execute_result",
          "data": {
            "text/plain": [
              "[3, 6, 9]"
            ]
          },
          "metadata": {},
          "execution_count": 2
        }
      ]
    },
    {
      "cell_type": "code",
      "source": [
        "# Answer 2\n",
        "\n",
        "def simon_says(lst1, lst2):\n",
        "    return lst1[:-1] == lst2[1:]"
      ],
      "metadata": {
        "id": "vRPQxOvuxfnP"
      },
      "execution_count": 3,
      "outputs": []
    },
    {
      "cell_type": "code",
      "source": [
        "simon_says([1, 2, 3, 4, 5], [0, 1, 2, 3, 4])"
      ],
      "metadata": {
        "colab": {
          "base_uri": "https://localhost:8080/"
        },
        "id": "6RawmPOrxfkW",
        "outputId": "732aba11-a1bb-406a-ed58-564cf9c43fab"
      },
      "execution_count": 4,
      "outputs": [
        {
          "output_type": "execute_result",
          "data": {
            "text/plain": [
              "True"
            ]
          },
          "metadata": {},
          "execution_count": 4
        }
      ]
    },
    {
      "cell_type": "code",
      "source": [
        "#Answer 3\n",
        "\n",
        "def society_name(names):\n",
        "    return ''.join(sorted(name[0] for name in names))"
      ],
      "metadata": {
        "id": "SJIZIY7Wxfhd"
      },
      "execution_count": 5,
      "outputs": []
    },
    {
      "cell_type": "code",
      "source": [
        "society_name([\"Harry\", \"Newt\", \"Luna\", \"Cho\"])"
      ],
      "metadata": {
        "colab": {
          "base_uri": "https://localhost:8080/",
          "height": 35
        },
        "id": "5B2rSRy_xfeb",
        "outputId": "5cc512b8-9937-4197-8b1a-ef3f61d6d4f5"
      },
      "execution_count": 6,
      "outputs": [
        {
          "output_type": "execute_result",
          "data": {
            "text/plain": [
              "'CHLN'"
            ],
            "application/vnd.google.colaboratory.intrinsic+json": {
              "type": "string"
            }
          },
          "metadata": {},
          "execution_count": 6
        }
      ]
    },
    {
      "cell_type": "code",
      "source": [
        "#Answer 4\n",
        "\n",
        "def is_isogram(s):\n",
        "    s = s.lower()\n",
        "    return len(set(s)) == len(s)"
      ],
      "metadata": {
        "id": "u3_tzhtlxfbq"
      },
      "execution_count": 7,
      "outputs": []
    },
    {
      "cell_type": "code",
      "source": [
        "is_isogram(\"PasSword\")"
      ],
      "metadata": {
        "colab": {
          "base_uri": "https://localhost:8080/"
        },
        "id": "XUuZb4XEyGyE",
        "outputId": "68f8243b-8d2d-41fa-de3a-1244d69bb370"
      },
      "execution_count": 8,
      "outputs": [
        {
          "output_type": "execute_result",
          "data": {
            "text/plain": [
              "False"
            ]
          },
          "metadata": {},
          "execution_count": 8
        }
      ]
    },
    {
      "cell_type": "code",
      "source": [
        "#Answer 5\n",
        "\n",
        "def is_in_order(s):\n",
        "    return s == ''.join(sorted(s))"
      ],
      "metadata": {
        "id": "3doPjKjtyGup"
      },
      "execution_count": 9,
      "outputs": []
    },
    {
      "cell_type": "code",
      "source": [
        "is_in_order(\"abc\")"
      ],
      "metadata": {
        "colab": {
          "base_uri": "https://localhost:8080/"
        },
        "id": "Ox99Wc88yGrw",
        "outputId": "a8d1b1d9-9d0a-4de7-b35b-6f7bc7b4af31"
      },
      "execution_count": 10,
      "outputs": [
        {
          "output_type": "execute_result",
          "data": {
            "text/plain": [
              "True"
            ]
          },
          "metadata": {},
          "execution_count": 10
        }
      ]
    },
    {
      "cell_type": "code",
      "source": [
        "is_in_order(\"edabit\")"
      ],
      "metadata": {
        "colab": {
          "base_uri": "https://localhost:8080/"
        },
        "id": "A1SihvZsyGo0",
        "outputId": "0d8ee971-4cb4-46d4-8dac-7da15c413c77"
      },
      "execution_count": 11,
      "outputs": [
        {
          "output_type": "execute_result",
          "data": {
            "text/plain": [
              "False"
            ]
          },
          "metadata": {},
          "execution_count": 11
        }
      ]
    },
    {
      "cell_type": "code",
      "source": [],
      "metadata": {
        "id": "CEywqTx1xfY2"
      },
      "execution_count": null,
      "outputs": []
    }
  ]
}
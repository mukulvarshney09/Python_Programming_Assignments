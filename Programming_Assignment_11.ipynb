{
  "nbformat": 4,
  "nbformat_minor": 0,
  "metadata": {
    "colab": {
      "provenance": []
    },
    "kernelspec": {
      "name": "python3",
      "display_name": "Python 3"
    },
    "language_info": {
      "name": "python"
    }
  },
  "cells": [
    {
      "cell_type": "markdown",
      "source": [
        "## 1.\tWrite a Python program to find words which are greater than given length k?"
      ],
      "metadata": {
        "id": "QDX8J8FP7YLT"
      }
    },
    {
      "cell_type": "code",
      "execution_count": 1,
      "metadata": {
        "colab": {
          "base_uri": "https://localhost:8080/"
        },
        "id": "RCHTDKNC7Vnj",
        "outputId": "fd2e72c1-7d89-4cd3-a9bf-628b5cae93bb"
      },
      "outputs": [
        {
          "output_type": "stream",
          "name": "stdout",
          "text": [
            "Words greater than length 4 are: ['sample', 'sentence', 'program']\n"
          ]
        }
      ],
      "source": [
        "sentence = \"This is a sample sentence to test the program\"\n",
        "k = 4\n",
        "result = [word for word in sentence.split() if len(word) > k]\n",
        "print(\"Words greater than length\", k, \"are:\", result)"
      ]
    },
    {
      "cell_type": "markdown",
      "source": [
        "## 2.\tWrite a Python program for removing i-th character from a string?"
      ],
      "metadata": {
        "id": "lXHrIdbx7ZUg"
      }
    },
    {
      "cell_type": "code",
      "source": [
        "input_str = \"Hello, World!\"\n",
        "i = 4\n",
        "result = input_str[:i] + input_str[i+1:]\n",
        "print(\"String after removing character at index\", i, \":\", result)"
      ],
      "metadata": {
        "colab": {
          "base_uri": "https://localhost:8080/"
        },
        "id": "ETwaWBgr7Ztg",
        "outputId": "dec738d9-872a-4779-e29c-dbd937241d9a"
      },
      "execution_count": 2,
      "outputs": [
        {
          "output_type": "stream",
          "name": "stdout",
          "text": [
            "String after removing character at index 4 : Hell, World!\n"
          ]
        }
      ]
    },
    {
      "cell_type": "markdown",
      "source": [
        "## 3.\tWrite a Python program to split and join a string?"
      ],
      "metadata": {
        "id": "bMm4TVni7aa5"
      }
    },
    {
      "cell_type": "code",
      "source": [
        "input_str = \"This is a sample string\"\n",
        "words = input_str.split()\n",
        "joined_string = \"-\".join(words)\n",
        "print(\"Original string:\", input_str)\n",
        "print(\"Split result:\", words)\n",
        "print(\"Joined result:\", joined_string)"
      ],
      "metadata": {
        "colab": {
          "base_uri": "https://localhost:8080/"
        },
        "id": "F95bjK657a5A",
        "outputId": "962c6966-d698-4cc6-9a0e-2478ceb5943f"
      },
      "execution_count": 3,
      "outputs": [
        {
          "output_type": "stream",
          "name": "stdout",
          "text": [
            "Original string: This is a sample string\n",
            "Split result: ['This', 'is', 'a', 'sample', 'string']\n",
            "Joined result: This-is-a-sample-string\n"
          ]
        }
      ]
    },
    {
      "cell_type": "markdown",
      "source": [
        "## 4.\tWrite a Python to check if a given string is binary string or not?"
      ],
      "metadata": {
        "id": "7eJHlZxb7bO4"
      }
    },
    {
      "cell_type": "code",
      "source": [
        "binary_str = \"101010101\"\n",
        "result = all(bit in '01' for bit in binary_str)\n",
        "print(f\"{binary_str} is a binary string: {result}\")"
      ],
      "metadata": {
        "colab": {
          "base_uri": "https://localhost:8080/"
        },
        "id": "KnCvuHwL7bmV",
        "outputId": "b5e21efd-f5dc-4b3a-ec6f-b7f5ae3fb180"
      },
      "execution_count": 4,
      "outputs": [
        {
          "output_type": "stream",
          "name": "stdout",
          "text": [
            "101010101 is a binary string: True\n"
          ]
        }
      ]
    },
    {
      "cell_type": "markdown",
      "source": [
        "## 5.\tWrite a Python program to find uncommon words from two Strings?"
      ],
      "metadata": {
        "id": "VAvx8r317cNF"
      }
    },
    {
      "cell_type": "code",
      "source": [
        "string1 = \"This is the first string\"\n",
        "string2 = \"This is the second string\"\n",
        "result = list(set(string1.split()).symmetric_difference(set(string2.split())))\n",
        "print(\"Uncommon words:\", result)"
      ],
      "metadata": {
        "colab": {
          "base_uri": "https://localhost:8080/"
        },
        "id": "YhIk4nZJ7coR",
        "outputId": "54cbc5b7-8694-4f47-dc2e-8a9f78d201d4"
      },
      "execution_count": 5,
      "outputs": [
        {
          "output_type": "stream",
          "name": "stdout",
          "text": [
            "Uncommon words: ['second', 'first']\n"
          ]
        }
      ]
    },
    {
      "cell_type": "markdown",
      "source": [
        "## 6.\tWrite a Python to find all duplicate characters in string?"
      ],
      "metadata": {
        "id": "g-26VCFj7ssT"
      }
    },
    {
      "cell_type": "code",
      "source": [
        "input_str = \"programming\"\n",
        "result = list(set(char for char in input_str if input_str.count(char) > 1))\n",
        "print(\"Duplicate characters:\", result)"
      ],
      "metadata": {
        "colab": {
          "base_uri": "https://localhost:8080/"
        },
        "id": "Io4OE84z7u6V",
        "outputId": "32201ca3-c732-499c-d5ff-1331ea11e939"
      },
      "execution_count": 6,
      "outputs": [
        {
          "output_type": "stream",
          "name": "stdout",
          "text": [
            "Duplicate characters: ['r', 'g', 'm']\n"
          ]
        }
      ]
    },
    {
      "cell_type": "markdown",
      "source": [
        "## 7.\tWrite a Python Program to check if a string contains any special character?"
      ],
      "metadata": {
        "id": "H39NLEuU7vkW"
      }
    },
    {
      "cell_type": "code",
      "source": [
        "import string\n",
        "\n",
        "input_str = \"Hello, World!\"\n",
        "special_characters = set(string.punctuation)\n",
        "result = any(char in special_characters for char in input_str)\n",
        "print(f\"{input_str} contains special character: {result}\")"
      ],
      "metadata": {
        "colab": {
          "base_uri": "https://localhost:8080/"
        },
        "id": "YzaJGhX67xnT",
        "outputId": "ea0ab349-c47b-45d7-bd7d-cfdfe8891869"
      },
      "execution_count": 7,
      "outputs": [
        {
          "output_type": "stream",
          "name": "stdout",
          "text": [
            "Hello, World! contains special character: True\n"
          ]
        }
      ]
    }
  ]
}
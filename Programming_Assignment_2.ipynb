{
  "nbformat": 4,
  "nbformat_minor": 0,
  "metadata": {
    "colab": {
      "provenance": []
    },
    "kernelspec": {
      "name": "python3",
      "display_name": "Python 3"
    },
    "language_info": {
      "name": "python"
    }
  },
  "cells": [
    {
      "cell_type": "markdown",
      "source": [
        "## 1.\tWrite a Python program to convert kilometers to miles?"
      ],
      "metadata": {
        "id": "ZMNVnmTJTtG8"
      }
    },
    {
      "cell_type": "code",
      "execution_count": 1,
      "metadata": {
        "colab": {
          "base_uri": "https://localhost:8080/"
        },
        "id": "oghUCz6pTeSd",
        "outputId": "77436468-8ff7-4def-ec89-551bc6d03bbf"
      },
      "outputs": [
        {
          "output_type": "stream",
          "name": "stdout",
          "text": [
            "Enter the distance in kilometers: 50\n",
            "Entered distance in 50.0km is 31.05590062111801 in miles\n"
          ]
        }
      ],
      "source": [
        "# 1 mile = 1.61 km\n",
        "\n",
        "d = float(input(\"Enter the distance in kilometers: \"))\n",
        "\n",
        "dist_km_to_mile = d / 1.61\n",
        "print(f\"Entered distance in {d}km is {dist_km_to_mile} in miles\")"
      ]
    },
    {
      "cell_type": "markdown",
      "source": [
        "## 2.\tWrite a Python program to convert Celsius to Fahrenheit?"
      ],
      "metadata": {
        "id": "1FA9GJ41TwKC"
      }
    },
    {
      "cell_type": "code",
      "source": [
        "temp_c = float(input(\"Enter the temperature in celsius: \"))\n",
        "\n",
        "temp_k = temp_c + 273.15\n",
        "\n",
        "print(f\"Entered temperature in {temp_c} Celsius is {temp_k} in Kelvin\")"
      ],
      "metadata": {
        "colab": {
          "base_uri": "https://localhost:8080/"
        },
        "id": "SkvJbe-BTyga",
        "outputId": "c8720668-e081-45b8-9301-86e686676861"
      },
      "execution_count": 2,
      "outputs": [
        {
          "output_type": "stream",
          "name": "stdout",
          "text": [
            "Enter the temperature in celsius: -20\n",
            "Entered temperature in -20.0 Celsius is 253.14999999999998 in Kelvin\n"
          ]
        }
      ]
    },
    {
      "cell_type": "markdown",
      "source": [
        "## 3.\tWrite a Python program to display calendar?"
      ],
      "metadata": {
        "id": "Rx8VWhwsTy0x"
      }
    },
    {
      "cell_type": "code",
      "source": [
        "import calendar\n",
        "\n",
        "year = int(input(\"Enter the year: \"))\n",
        "month = int(input(\"Enter the month number: \"))\n",
        "\n",
        "cal = calendar.TextCalendar()\n",
        "month_calendar = cal.formatmonth(year,month)\n",
        "print(\"\\n\")\n",
        "print(month_calendar)"
      ],
      "metadata": {
        "colab": {
          "base_uri": "https://localhost:8080/"
        },
        "id": "fYkB38mvT1MR",
        "outputId": "d06a7c40-b254-455b-aead-d89cd305522b"
      },
      "execution_count": 5,
      "outputs": [
        {
          "output_type": "stream",
          "name": "stdout",
          "text": [
            "Enter the year: 2023\n",
            "Enter the month number: 7\n",
            "\n",
            "\n",
            "     July 2023\n",
            "Mo Tu We Th Fr Sa Su\n",
            "                1  2\n",
            " 3  4  5  6  7  8  9\n",
            "10 11 12 13 14 15 16\n",
            "17 18 19 20 21 22 23\n",
            "24 25 26 27 28 29 30\n",
            "31\n",
            "\n"
          ]
        }
      ]
    },
    {
      "cell_type": "markdown",
      "source": [
        "## 4.\tWrite a Python program to solve quadratic equation?"
      ],
      "metadata": {
        "id": "x7trxd0sT1ki"
      }
    },
    {
      "cell_type": "code",
      "source": [
        "#Quadratic Equation: ax2 + bx + c = 0 : a,b,c are integers and a not equal to 0\n",
        "import math\n",
        "\n",
        "a = float(input(\"Enter the value of a: \"))\n",
        "b = float(input(\"Enter the value of b: \"))\n",
        "c = float(input(\"Enter the value of c: \"))\n",
        "\n",
        "discriminant = ((b ** 2) - (4 * a * c))\n",
        "\n",
        "if discriminant > 0:\n",
        "  root1 = (-b + math.sqrt(discriminant)) / (2 * a)\n",
        "  root2 = (-b - math.sqrt(discriminant)) / (2 * a)\n",
        "  print(\"Root 1: \", root1)\n",
        "  print(\"Root 2: \", root2)\n",
        "elif discriminant == 0:\n",
        "  root = (-b / (2 * a))\n",
        "else:\n",
        "  real_part = (-b / (2 * a))\n",
        "  imaginary_part = math.sqrt(abs(discriminant)) / (2 * a)\n",
        "  root1 = complex(real_part,imaginary_part)\n",
        "  root2 = complex(real_part,-imaginary_part)\n",
        "  print(\"Root 1: \", root1)\n",
        "  print(\"Root 2: \", root2)"
      ],
      "metadata": {
        "colab": {
          "base_uri": "https://localhost:8080/"
        },
        "id": "QTPe2SGpT34b",
        "outputId": "b3ae91da-acdc-4d3e-b99d-e004b3facbeb"
      },
      "execution_count": 6,
      "outputs": [
        {
          "output_type": "stream",
          "name": "stdout",
          "text": [
            "Enter the value of a: 6\n",
            "Enter the value of b: -17\n",
            "Enter the value of c: 12\n",
            "Root 1:  1.5\n",
            "Root 2:  1.3333333333333333\n"
          ]
        }
      ]
    },
    {
      "cell_type": "markdown",
      "source": [
        "## 5.\tWrite a Python program to swap two variables without temp variable?"
      ],
      "metadata": {
        "id": "38Fr7_x5T4OC"
      }
    },
    {
      "cell_type": "code",
      "source": [
        "a = input(\"Enter 1st variable value: \")\n",
        "b = input(\"Enter 2nd variable value: \")\n",
        "\n",
        "#swapping\n",
        "a,b=b,a\n",
        "print(\"After swapping\")\n",
        "print(\"a is\",a)\n",
        "print(\"b is\",b)"
      ],
      "metadata": {
        "colab": {
          "base_uri": "https://localhost:8080/"
        },
        "id": "LTOXqyvyT6oV",
        "outputId": "9f1eeb39-ca61-419e-b412-c01b14a3020a"
      },
      "execution_count": 7,
      "outputs": [
        {
          "output_type": "stream",
          "name": "stdout",
          "text": [
            "Enter 1st variable value: 69\n",
            "Enter 2nd variable value: myk\n",
            "After swapping\n",
            "a is myk\n",
            "b is 69\n"
          ]
        }
      ]
    }
  ]
}
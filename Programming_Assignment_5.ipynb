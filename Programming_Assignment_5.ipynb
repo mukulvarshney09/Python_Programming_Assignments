{
  "nbformat": 4,
  "nbformat_minor": 0,
  "metadata": {
    "colab": {
      "provenance": []
    },
    "kernelspec": {
      "name": "python3",
      "display_name": "Python 3"
    },
    "language_info": {
      "name": "python"
    }
  },
  "cells": [
    {
      "cell_type": "markdown",
      "source": [
        "## 1.\tWrite a Python Program to Find LCM?"
      ],
      "metadata": {
        "id": "5yFE5xuhTg63"
      }
    },
    {
      "cell_type": "code",
      "execution_count": 3,
      "metadata": {
        "colab": {
          "base_uri": "https://localhost:8080/"
        },
        "id": "kAf24ZK_TdqB",
        "outputId": "d1d2001e-6a5e-4d7d-8cea-95ccb478d8c0"
      },
      "outputs": [
        {
          "output_type": "stream",
          "name": "stdout",
          "text": [
            "Enter 1st number: 24\n",
            "Enter 2nd number: 48\n",
            "LCM of 24 and 48 is: 48\n"
          ]
        }
      ],
      "source": [
        "n1 = int(input(\"Enter 1st number: \"))\n",
        "n2 = int(input(\"Enter 2nd number: \"))\n",
        "\n",
        "if n1 > n2:\n",
        "  greater = n1\n",
        "else:\n",
        "  greater = n2\n",
        "\n",
        "while True:\n",
        "  if greater % n1 == 0 and greater % n2 == 0:\n",
        "    lcm = greater\n",
        "    break\n",
        "  greater += 1\n",
        "\n",
        "print(f\"LCM of {n1} and {n2} is: {lcm}\")"
      ]
    },
    {
      "cell_type": "markdown",
      "source": [
        "## 2.\tWrite a Python Program to Find HCF?"
      ],
      "metadata": {
        "id": "iKtUnsORTi79"
      }
    },
    {
      "cell_type": "code",
      "source": [
        "n1 = int(input(\"Enter 1st number: \"))\n",
        "n2 = int(input(\"Enter 2nd number: \"))\n",
        "\n",
        "while n2:\n",
        "  n1, n2 = n2, n1 % n2\n",
        "\n",
        "hcf = n1\n",
        "\n",
        "print(f\"HCF is {hcf}\")"
      ],
      "metadata": {
        "colab": {
          "base_uri": "https://localhost:8080/"
        },
        "id": "sR-OXAVKTjWN",
        "outputId": "a8aa720b-cfe5-4754-ab04-1b89b8e7d713"
      },
      "execution_count": 5,
      "outputs": [
        {
          "output_type": "stream",
          "name": "stdout",
          "text": [
            "Enter 1st number: 25\n",
            "Enter 2nd number: 50\n",
            "HCF is 25\n"
          ]
        }
      ]
    },
    {
      "cell_type": "markdown",
      "source": [
        "## 3.\tWrite a Python Program to Convert Decimal to Binary, Octal and Hexadecimal?"
      ],
      "metadata": {
        "id": "t0k9FKPGTj0j"
      }
    },
    {
      "cell_type": "code",
      "source": [
        "dec_num = int(input(\"Enter a decimal number: \"))\n",
        "\n",
        "binary_num = bin(dec_num)\n",
        "octal_num = oct(dec_num)\n",
        "hexadecimal_num = hex(dec_num)\n",
        "\n",
        "print(\"Binary representation: \",binary_num)\n",
        "print(\"Octal representation: \",octal_num)\n",
        "print(\"Hexadecimal representation: \",hexadecimal_num)"
      ],
      "metadata": {
        "colab": {
          "base_uri": "https://localhost:8080/"
        },
        "id": "1CZ9Mb2RTkNg",
        "outputId": "4e456d82-9b1f-4568-d844-3aa4e91e21b6"
      },
      "execution_count": 6,
      "outputs": [
        {
          "output_type": "stream",
          "name": "stdout",
          "text": [
            "Enter a decimal number: 5\n",
            "Binary representation:  0b101\n",
            "Octal representation:  0o5\n",
            "Hexadecimal representation:  0x5\n"
          ]
        }
      ]
    },
    {
      "cell_type": "markdown",
      "source": [
        "## 4.\tWrite a Python Program To Find ASCII value of a character?"
      ],
      "metadata": {
        "id": "VBmAy8VEiFdK"
      }
    },
    {
      "cell_type": "code",
      "source": [
        "char = input(\"Enter the character: \")\n",
        "\n",
        "ascii_value = ord(char)\n",
        "\n",
        "print(f\"ACII value of {char} is {ascii_value}\")"
      ],
      "metadata": {
        "colab": {
          "base_uri": "https://localhost:8080/"
        },
        "id": "2P9sx2nJiHIf",
        "outputId": "066116c8-b014-44e5-a1ef-8de32b28a693"
      },
      "execution_count": 8,
      "outputs": [
        {
          "output_type": "stream",
          "name": "stdout",
          "text": [
            "Enter the character: m\n",
            "ACII value of m is 109\n"
          ]
        }
      ]
    },
    {
      "cell_type": "markdown",
      "source": [
        "## 5.\tWrite a Python Program to Make a Simple Calculator with 4 basic mathematical operations?"
      ],
      "metadata": {
        "id": "rsspemtgiHsX"
      }
    },
    {
      "cell_type": "code",
      "source": [
        "print(\"Select from these operations: Add , Substract, Multiply, Divide\")\n",
        "opr = input(\"Enter the operation: \")\n",
        "\n",
        "a = float(input(\"Enter the 1st non-zero number: \"))\n",
        "b = float(input(\"Enter the 2nd non-zero number: \"))\n",
        "\n",
        "if opr == \"Add\":\n",
        "  sum1 = a + b\n",
        "  print(f\"Sum of {a} and {b} is {sum1}\")\n",
        "elif opr == \"Substract\":\n",
        "  substract = a - b\n",
        "  print(f\"Subtraction of {a} and {b} is {substract}\")\n",
        "elif opr == \"Multiply\":\n",
        "  mutliple = a * b\n",
        "  print(f\"Multiplication of {a} and {b} is {multiple}\")\n",
        "elif opr == \"Divide\":\n",
        "  divide = a / b\n",
        "  print(f\"Division of {a} by {b}, outcome is {divide}\")"
      ],
      "metadata": {
        "colab": {
          "base_uri": "https://localhost:8080/"
        },
        "id": "FW0ByJNziIJr",
        "outputId": "02bad086-a510-4d02-a5f8-010430281190"
      },
      "execution_count": 2,
      "outputs": [
        {
          "output_type": "stream",
          "name": "stdout",
          "text": [
            "Select from these operations: Add , Substract, Multiply, Divide\n",
            "Enter the operation: Substract\n",
            "Enter the 1st non-zero number: 10\n",
            "Enter the 2nd non-zero number: 20\n",
            "Subtraction of 10.0 and 20.0 is -10.0\n"
          ]
        }
      ]
    }
  ]
}
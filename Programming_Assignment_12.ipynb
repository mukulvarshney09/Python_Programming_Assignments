{
  "nbformat": 4,
  "nbformat_minor": 0,
  "metadata": {
    "colab": {
      "provenance": []
    },
    "kernelspec": {
      "name": "python3",
      "display_name": "Python 3"
    },
    "language_info": {
      "name": "python"
    }
  },
  "cells": [
    {
      "cell_type": "markdown",
      "source": [
        "## 1.\tWrite a Python program to Extract Unique values dictionary values?"
      ],
      "metadata": {
        "id": "KUVRL1hV9hiD"
      }
    },
    {
      "cell_type": "code",
      "execution_count": 1,
      "metadata": {
        "colab": {
          "base_uri": "https://localhost:8080/"
        },
        "id": "8g_f4mGF9Wmn",
        "outputId": "b83488a8-481f-4d08-c94a-2164c5cd618f"
      },
      "outputs": [
        {
          "output_type": "stream",
          "name": "stdout",
          "text": [
            "Unique values in the dictionary: [1, 2, 3]\n"
          ]
        }
      ],
      "source": [
        "my_dict = {'a': 1, 'b': 2, 'c': 1, 'd': 3, 'e': 2}\n",
        "\n",
        "unique_values = list(set(my_dict.values()))\n",
        "\n",
        "print(\"Unique values in the dictionary:\", unique_values)"
      ]
    },
    {
      "cell_type": "markdown",
      "source": [
        "## 2.\tWrite a Python program to find the sum of all items in a dictionary?"
      ],
      "metadata": {
        "id": "rkVXupg89j97"
      }
    },
    {
      "cell_type": "code",
      "source": [
        "my_dict = {'a': 10, 'b': 20, 'c': 30, 'd': 40}\n",
        "\n",
        "sum_of_values = sum(my_dict.values())\n",
        "\n",
        "print(\"Sum of all items in the dictionary:\", sum_of_values)"
      ],
      "metadata": {
        "colab": {
          "base_uri": "https://localhost:8080/"
        },
        "id": "iiDglBrY9mLi",
        "outputId": "2602da99-7656-4715-8641-e541418cf9e9"
      },
      "execution_count": 2,
      "outputs": [
        {
          "output_type": "stream",
          "name": "stdout",
          "text": [
            "Sum of all items in the dictionary: 100\n"
          ]
        }
      ]
    },
    {
      "cell_type": "markdown",
      "source": [
        "## 3.\tWrite a Python program to Merging two Dictionaries?"
      ],
      "metadata": {
        "id": "LarNkymg9mvd"
      }
    },
    {
      "cell_type": "code",
      "source": [
        "dict1 = {'a': 1, 'b': 2}\n",
        "dict2 = {'c': 3, 'd': 4}\n",
        "\n",
        "merged_dict = {**dict1, **dict2}\n",
        "\n",
        "print(\"Merged dictionary:\", merged_dict)"
      ],
      "metadata": {
        "colab": {
          "base_uri": "https://localhost:8080/"
        },
        "id": "u8G1UAGg9pZg",
        "outputId": "1edecd03-d487-47d0-bcd1-cabbb92eba15"
      },
      "execution_count": 3,
      "outputs": [
        {
          "output_type": "stream",
          "name": "stdout",
          "text": [
            "Merged dictionary: {'a': 1, 'b': 2, 'c': 3, 'd': 4}\n"
          ]
        }
      ]
    },
    {
      "cell_type": "markdown",
      "source": [
        "## 4.\tWrite a Python program to convert key-values list to flat dictionary?"
      ],
      "metadata": {
        "id": "DEGWCTfi9pzE"
      }
    },
    {
      "cell_type": "code",
      "source": [
        "keys = ['a', 'b', 'c']\n",
        "values = [1, 2, 3]\n",
        "\n",
        "flat_dict = dict(zip(keys, values))\n",
        "\n",
        "print(\"Flat dictionary:\", flat_dict)"
      ],
      "metadata": {
        "colab": {
          "base_uri": "https://localhost:8080/"
        },
        "id": "cDzhU8Ei9sIh",
        "outputId": "f6750f2c-ec01-4d95-8259-94a1acc72c25"
      },
      "execution_count": 4,
      "outputs": [
        {
          "output_type": "stream",
          "name": "stdout",
          "text": [
            "Flat dictionary: {'a': 1, 'b': 2, 'c': 3}\n"
          ]
        }
      ]
    },
    {
      "cell_type": "markdown",
      "source": [
        "## 5.\tWrite a Python program to insertion at the beginning in OrderedDict?"
      ],
      "metadata": {
        "id": "GH6FQULo9sf6"
      }
    },
    {
      "cell_type": "code",
      "source": [
        "from collections import OrderedDict\n",
        "\n",
        "ordered_dict = OrderedDict([('a', 1), ('b', 2), ('c', 3)])\n",
        "\n",
        "ordered_dict.update({'x': 0}, beginning=True)\n",
        "\n",
        "print(\"OrderedDict after insertion at the beginning:\", ordered_dict)"
      ],
      "metadata": {
        "colab": {
          "base_uri": "https://localhost:8080/"
        },
        "id": "yucvs94n9uvE",
        "outputId": "e07552b8-0d24-4a61-9cb6-d6c14793eee0"
      },
      "execution_count": 5,
      "outputs": [
        {
          "output_type": "stream",
          "name": "stdout",
          "text": [
            "OrderedDict after insertion at the beginning: OrderedDict([('a', 1), ('b', 2), ('c', 3), ('x', 0), ('beginning', True)])\n"
          ]
        }
      ]
    },
    {
      "cell_type": "markdown",
      "source": [
        "## 6.\tWrite a Python program to check order of character in string using OrderedDict()?"
      ],
      "metadata": {
        "id": "zRSnmVWb9vKf"
      }
    },
    {
      "cell_type": "code",
      "source": [
        "from collections import OrderedDict\n",
        "\n",
        "def check_order_of_characters(input_string, pattern):\n",
        "    ordered_dict = OrderedDict.fromkeys(input_string)\n",
        "\n",
        "    # Check if the pattern is present in the ordered keys\n",
        "    return pattern in ''.join(ordered_dict.keys())\n",
        "\n",
        "# Example usage:\n",
        "input_str = \"hello world\"\n",
        "pattern_to_check = \"low\"\n",
        "result = check_order_of_characters(input_str, pattern_to_check)\n",
        "print(f\"The pattern '{pattern_to_check}' {'is' if result else 'is not'} in order in the string.\")"
      ],
      "metadata": {
        "colab": {
          "base_uri": "https://localhost:8080/"
        },
        "id": "XjSMB_y29xSJ",
        "outputId": "3de891d4-a8af-4d4e-fc87-f970c48a0ccb"
      },
      "execution_count": 6,
      "outputs": [
        {
          "output_type": "stream",
          "name": "stdout",
          "text": [
            "The pattern 'low' is not in order in the string.\n"
          ]
        }
      ]
    },
    {
      "cell_type": "markdown",
      "source": [
        "## 7.\tWrite a Python program to sort Python Dictionaries by Key or Value?"
      ],
      "metadata": {
        "id": "BXmrMQRA9yIP"
      }
    },
    {
      "cell_type": "code",
      "source": [
        "my_dict = {'b': 2, 'a': 1, 'd': 4, 'c': 3}\n",
        "\n",
        "sorted_dict_by_key = dict(sorted(my_dict.items()))\n",
        "\n",
        "print(\"Sorted dictionary by key:\", sorted_dict_by_key)"
      ],
      "metadata": {
        "colab": {
          "base_uri": "https://localhost:8080/"
        },
        "id": "OplcaAne91Lf",
        "outputId": "8a1e510a-5b67-45b1-bccb-447c7d2172c1"
      },
      "execution_count": 7,
      "outputs": [
        {
          "output_type": "stream",
          "name": "stdout",
          "text": [
            "Sorted dictionary by key: {'a': 1, 'b': 2, 'c': 3, 'd': 4}\n"
          ]
        }
      ]
    },
    {
      "cell_type": "code",
      "source": [
        "#Shorting by Values\n",
        "my_dict = {'b': 2, 'a': 1, 'd': 4, 'c': 3}\n",
        "\n",
        "sorted_dict_by_value = dict(sorted(my_dict.items(), key=lambda item: item[1]))\n",
        "\n",
        "print(\"Sorted dictionary by value:\", sorted_dict_by_value)"
      ],
      "metadata": {
        "colab": {
          "base_uri": "https://localhost:8080/"
        },
        "id": "E1KyGLAb-a4h",
        "outputId": "4f52fa23-a272-483d-e699-5b0cddb1bd46"
      },
      "execution_count": 8,
      "outputs": [
        {
          "output_type": "stream",
          "name": "stdout",
          "text": [
            "Sorted dictionary by value: {'a': 1, 'b': 2, 'c': 3, 'd': 4}\n"
          ]
        }
      ]
    },
    {
      "cell_type": "markdown",
      "source": [],
      "metadata": {
        "id": "gbLJG-Do-hAj"
      }
    }
  ]
}
{
  "nbformat": 4,
  "nbformat_minor": 0,
  "metadata": {
    "colab": {
      "provenance": []
    },
    "kernelspec": {
      "name": "python3",
      "display_name": "Python 3"
    },
    "language_info": {
      "name": "python"
    }
  },
  "cells": [
    {
      "cell_type": "markdown",
      "source": [
        "## 1.\tWrite a Python Program to Find the Factorial of a Number?"
      ],
      "metadata": {
        "id": "OLjdGKehsByK"
      }
    },
    {
      "cell_type": "code",
      "execution_count": 1,
      "metadata": {
        "colab": {
          "base_uri": "https://localhost:8080/"
        },
        "id": "zcQJQ48Br967",
        "outputId": "2772f394-8530-440b-80e0-dfe1eca93dd5"
      },
      "outputs": [
        {
          "output_type": "stream",
          "name": "stdout",
          "text": [
            "Enter the number: 5\n",
            "120\n"
          ]
        }
      ],
      "source": [
        "a = int(input(\"Enter the number: \"))\n",
        "\n",
        "fact = 1\n",
        "\n",
        "for i in range(1, (int(a)+1)):\n",
        "  fact  = fact * i\n",
        "\n",
        "print(fact)"
      ]
    },
    {
      "cell_type": "markdown",
      "source": [
        "## 2.\tWrite a Python Program to Display the multiplication Table?"
      ],
      "metadata": {
        "id": "ECT2BfVssDBE"
      }
    },
    {
      "cell_type": "code",
      "source": [
        "n = int(input(\"Enter the number for table: \"))\n",
        "\n",
        "for i in range(1,11):\n",
        "  print(f\"{n} * {i} = {n * i}\")"
      ],
      "metadata": {
        "colab": {
          "base_uri": "https://localhost:8080/"
        },
        "id": "n-Wme4sUsDd8",
        "outputId": "1b902e21-50b4-4787-f834-6d1b2eaae5a6"
      },
      "execution_count": 3,
      "outputs": [
        {
          "output_type": "stream",
          "name": "stdout",
          "text": [
            "Enter the number for table: 9\n",
            "9 * 1 = 9\n",
            "9 * 2 = 18\n",
            "9 * 3 = 27\n",
            "9 * 4 = 36\n",
            "9 * 5 = 45\n",
            "9 * 6 = 54\n",
            "9 * 7 = 63\n",
            "9 * 8 = 72\n",
            "9 * 9 = 81\n",
            "9 * 10 = 90\n"
          ]
        }
      ]
    },
    {
      "cell_type": "markdown",
      "source": [
        "## 3.\tWrite a Python Program to Print the Fibonacci sequence?"
      ],
      "metadata": {
        "id": "YufQTKccsEHk"
      }
    },
    {
      "cell_type": "code",
      "source": [
        "num_terms = 5\n",
        "\n",
        "fib_seq = [0,1]\n",
        "\n",
        "while len(fib_seq) < num_terms:\n",
        "  next_term = fib_seq[-1] + fib_seq[-2]\n",
        "  fib_seq.append(next_term)\n",
        "\n",
        "print(f\"Fibonacci sequence up to {num_terms} terms: {fib_seq}\")"
      ],
      "metadata": {
        "colab": {
          "base_uri": "https://localhost:8080/"
        },
        "id": "nee8HQsOsEmC",
        "outputId": "4656cc63-14ff-4d34-bd0e-32c1d801b272"
      },
      "execution_count": 6,
      "outputs": [
        {
          "output_type": "stream",
          "name": "stdout",
          "text": [
            "Fibonacci sequence up to 5 terms: [0, 1, 1, 2, 3]\n"
          ]
        }
      ]
    },
    {
      "cell_type": "markdown",
      "source": [
        "## 4.\tWrite a Python Program to Check Armstrong Number?"
      ],
      "metadata": {
        "id": "Opd0JrZZsE-j"
      }
    },
    {
      "cell_type": "code",
      "source": [
        "num = 153\n",
        "num_digits = len(str(num))\n",
        "sum_of_digits = 0\n",
        "temp_num = num\n",
        "\n",
        "while temp_num > 0:\n",
        "    digit = temp_num % 10\n",
        "    sum_of_digits += digit ** num_digits\n",
        "    temp_num //= 10\n",
        "\n",
        "#Check if the number is an Armstrong number\n",
        "if num == sum_of_digits:\n",
        "    print(f\"{num} is an Armstrong number.\")\n",
        "else:\n",
        "    print(f\"{num} is not an Armstrong number.\")"
      ],
      "metadata": {
        "colab": {
          "base_uri": "https://localhost:8080/"
        },
        "id": "bbaYNs3-sFX3",
        "outputId": "23fe6b39-ed2e-4689-c4a9-9a509286dfac"
      },
      "execution_count": 7,
      "outputs": [
        {
          "output_type": "stream",
          "name": "stdout",
          "text": [
            "153 is an Armstrong number.\n"
          ]
        }
      ]
    },
    {
      "cell_type": "markdown",
      "source": [
        "## 5.\tWrite a Python Program to Find Armstrong Number in an Interval?"
      ],
      "metadata": {
        "id": "R4dD319AsF31"
      }
    },
    {
      "cell_type": "code",
      "source": [
        "lower_limit = 1\n",
        "upper_limit = 1000\n",
        "\n",
        "print(f\"Armstrong numbers in the interval {lower_limit}-{upper_limit}:\")\n",
        "for num in range(lower_limit, upper_limit + 1):\n",
        "  num_digits = len(str(num))\n",
        "  sum_of_digits = 0\n",
        "  temp_num = num\n",
        "\n",
        "  while temp_num > 0:\n",
        "        digit = temp_num % 10\n",
        "        sum_of_digits += digit ** num_digits\n",
        "        temp_num //= 10\n",
        "\n",
        "  if num == sum_of_digits:\n",
        "        print(num, end=\" \")"
      ],
      "metadata": {
        "colab": {
          "base_uri": "https://localhost:8080/"
        },
        "id": "Tlnvx2D7sGSY",
        "outputId": "b2d89011-6a92-4558-a840-d3263cdf7e41"
      },
      "execution_count": 8,
      "outputs": [
        {
          "output_type": "stream",
          "name": "stdout",
          "text": [
            "Armstrong numbers in the interval 1-1000:\n",
            "1 2 3 4 5 6 7 8 9 153 370 371 407 "
          ]
        }
      ]
    },
    {
      "cell_type": "markdown",
      "source": [
        "## 6.\tWrite a Python Program to Find the Sum of Natural Numbers?"
      ],
      "metadata": {
        "id": "BBr9zsEosanF"
      }
    },
    {
      "cell_type": "code",
      "source": [
        "n = int(input(\"Enter the no. of natural numbers: \"))\n",
        "\n",
        "sum_natural = (n * (n+1))/2\n",
        "\n",
        "print(f\"Sum of {n} natural numbers is: {sum_natural}\")"
      ],
      "metadata": {
        "colab": {
          "base_uri": "https://localhost:8080/"
        },
        "id": "MzdE8Fsmscwy",
        "outputId": "1502dede-1527-4748-9e30-004fb3ada255"
      },
      "execution_count": 11,
      "outputs": [
        {
          "output_type": "stream",
          "name": "stdout",
          "text": [
            "Enter the no. of natural numbers: 20\n",
            "Sum of 20 natural numbers is: 210.0\n"
          ]
        }
      ]
    }
  ]
}
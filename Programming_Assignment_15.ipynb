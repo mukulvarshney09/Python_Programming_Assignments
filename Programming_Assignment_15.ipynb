{
  "nbformat": 4,
  "nbformat_minor": 0,
  "metadata": {
    "colab": {
      "provenance": []
    },
    "kernelspec": {
      "name": "python3",
      "display_name": "Python 3"
    },
    "language_info": {
      "name": "python"
    }
  },
  "cells": [
    {
      "cell_type": "markdown",
      "source": [
        "## Question 1:\n",
        "Please write a program using generator to print the numbers which can be divisible by 5 and 7 between 0 and n in comma separated form while n is input by console.\n",
        "Example:\n",
        "If the following n is given as input to the program:\n",
        "100\n",
        "Then, the output of the program should be:\n",
        "0,35,70\n"
      ],
      "metadata": {
        "id": "y2OgvYnqW2VD"
      }
    },
    {
      "cell_type": "code",
      "source": [
        "n = int(input(\"Enter a value for n: \"))\n",
        "\n",
        "divisible_by_5_and_7 = (str(num) for num in range(n + 1) if num % 5 == 0 and num % 7 == 0)\n",
        "output = \",\".join(divisible_by_5_and_7)\n",
        "\n",
        "print(output)"
      ],
      "metadata": {
        "colab": {
          "base_uri": "https://localhost:8080/"
        },
        "id": "U7cN-mhrW0Zw",
        "outputId": "c40e894c-f0c5-4a55-b735-6bba33c25ffc"
      },
      "execution_count": 1,
      "outputs": [
        {
          "output_type": "stream",
          "name": "stdout",
          "text": [
            "Enter a value for n: 100\n",
            "0,35,70\n"
          ]
        }
      ]
    },
    {
      "cell_type": "markdown",
      "source": [
        "## Question 2:\n",
        "Please write a program using generator to print the even numbers between 0 and n in comma separated form while n is input by console.\n",
        "Example:\n",
        "If the following n is given as input to the program:\n",
        "10\n",
        "Then, the output of the program should be:\n",
        "0,2,4,6,8,10\n"
      ],
      "metadata": {
        "id": "l4dqA6SOW0Cn"
      }
    },
    {
      "cell_type": "code",
      "execution_count": 2,
      "metadata": {
        "colab": {
          "base_uri": "https://localhost:8080/"
        },
        "id": "JGSpAEfkV8LN",
        "outputId": "b3b1af3c-8731-4a2e-b368-b849d98a2e66"
      },
      "outputs": [
        {
          "output_type": "stream",
          "name": "stdout",
          "text": [
            "Enter a value for n: 10\n",
            "0,2,4,6,8,10\n"
          ]
        }
      ],
      "source": [
        "n = int(input(\"Enter a value for n: \"))\n",
        "\n",
        "even_numbers = (str(num) for num in range(n + 1) if num % 2 == 0)\n",
        "output = \",\".join(even_numbers)\n",
        "\n",
        "print(output)"
      ]
    },
    {
      "cell_type": "markdown",
      "source": [
        "## Question 3:\n",
        "The Fibonacci Sequence is computed based on the following formula:\n",
        "f(n)=0 if n=0\n",
        "f(n)=1 if n=1\n",
        "f(n)=f(n-1)+f(n-2) if n>1\n",
        "Please write a program using list comprehension to print the Fibonacci Sequence in comma separated form with a given n input by console.\n",
        "Example:\n",
        "If the following n is given as input to the program:\n",
        "7\n",
        "\n",
        "Then, the output of the program should be:\n",
        "0,1,1,2,3,5,8,13\n"
      ],
      "metadata": {
        "id": "YtmazKmDXIZG"
      }
    },
    {
      "cell_type": "code",
      "source": [
        "fibonacci_sequence = []\n",
        "\n",
        "n = int(input(\"Enter a value for n: \"))\n",
        "\n",
        "fibonacci_sequence = [str((lambda x: x if x <= 1 else fibonacci_sequence[x-1] + fibonacci_sequence[x-2])(i)) for i in range(n + 1)]\n",
        "output = \",\".join(fibonacci_sequence)\n",
        "\n",
        "print(output)"
      ],
      "metadata": {
        "id": "0nCdelruYRLy"
      },
      "execution_count": null,
      "outputs": []
    },
    {
      "cell_type": "markdown",
      "source": [
        "## Question 4:\n",
        "Assuming that we have some email addresses in the \"username@companyname.com\" format, please write program to print the user name of a given email address. Both user names and company names are composed of letters only.\n",
        "Example:\n",
        "If the following email address is given as input to the program:\n",
        "john@google.com\n",
        "Then, the output of the program should be:\n",
        "john\n"
      ],
      "metadata": {
        "id": "pQolvGjVXMz_"
      }
    },
    {
      "cell_type": "code",
      "source": [
        "email_address = input(\"Enter an email address: \")\n",
        "\n",
        "user_name = email_address.split('@')[0]\n",
        "print(user_name)"
      ],
      "metadata": {
        "colab": {
          "base_uri": "https://localhost:8080/"
        },
        "id": "Q4JRcNrkXPdq",
        "outputId": "9069b1e2-15f8-4706-cf2a-9ebd3a00f19f"
      },
      "execution_count": 7,
      "outputs": [
        {
          "output_type": "stream",
          "name": "stdout",
          "text": [
            "Enter an email address: john@google.com \n",
            "john\n"
          ]
        }
      ]
    },
    {
      "cell_type": "markdown",
      "source": [
        "## Question 5:\n",
        "Define a class named Shape and its subclass Square. The Square class has an init function which takes a length as argument. Both classes have a area function which can print the area of the shape where Shape's area is 0 by default.\n"
      ],
      "metadata": {
        "id": "a4Ik1Z5DXPxG"
      }
    },
    {
      "cell_type": "code",
      "source": [
        "class Shape:\n",
        "    def area(self):\n",
        "        print(\"Area of the shape: 0\")\n",
        "\n",
        "class Square(Shape):\n",
        "    def __init__(self, length):\n",
        "        self.length = length\n",
        "\n",
        "    def area(self):\n",
        "        print(f\"Area of the square: {self.length * self.length}\")\n",
        "\n",
        "# Example usage:\n",
        "square_instance = Square(5)\n",
        "square_instance.area()"
      ],
      "metadata": {
        "colab": {
          "base_uri": "https://localhost:8080/"
        },
        "id": "9FZL-FWgXR_W",
        "outputId": "1b69b5bb-d412-45a5-fd33-372b6ef06132"
      },
      "execution_count": 8,
      "outputs": [
        {
          "output_type": "stream",
          "name": "stdout",
          "text": [
            "Area of the square: 25\n"
          ]
        }
      ]
    }
  ]
}
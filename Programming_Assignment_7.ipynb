{
  "nbformat": 4,
  "nbformat_minor": 0,
  "metadata": {
    "colab": {
      "provenance": []
    },
    "kernelspec": {
      "name": "python3",
      "display_name": "Python 3"
    },
    "language_info": {
      "name": "python"
    }
  },
  "cells": [
    {
      "cell_type": "markdown",
      "source": [
        "## 1.\tWrite a Python Program to find sum of array?"
      ],
      "metadata": {
        "id": "7VWngWrCukax"
      }
    },
    {
      "cell_type": "code",
      "execution_count": 2,
      "metadata": {
        "colab": {
          "base_uri": "https://localhost:8080/"
        },
        "id": "Qs-NdQl_uUBH",
        "outputId": "26bc36a2-5435-4dc3-f0f4-d49adc5c098d"
      },
      "outputs": [
        {
          "output_type": "stream",
          "name": "stdout",
          "text": [
            "Sum of the array elements: 15\n"
          ]
        }
      ],
      "source": [
        "array1 = [1, 2, 3, 4, 5]\n",
        "\n",
        "array_sum = sum(array1)\n",
        "print(\"Sum of the array elements:\", array_sum)"
      ]
    },
    {
      "cell_type": "markdown",
      "source": [
        "## 2.\tWrite a Python Program to find largest element in an array?"
      ],
      "metadata": {
        "id": "asDxRPkkulWF"
      }
    },
    {
      "cell_type": "code",
      "source": [
        "array2 = [10, 5, 8, 20, 15]\n",
        "\n",
        "largest_element = max(array2)\n",
        "print(\"Largest element in the array:\", largest_element)"
      ],
      "metadata": {
        "colab": {
          "base_uri": "https://localhost:8080/"
        },
        "id": "fNFyMTAbulvV",
        "outputId": "0507e4e8-a8e0-4838-8289-27a1d5c6e846"
      },
      "execution_count": 3,
      "outputs": [
        {
          "output_type": "stream",
          "name": "stdout",
          "text": [
            "Largest element in the array: 20\n"
          ]
        }
      ]
    },
    {
      "cell_type": "markdown",
      "source": [
        "## 3.\tWrite a Python Program for array rotation?"
      ],
      "metadata": {
        "id": "l6tw2tebumMW"
      }
    },
    {
      "cell_type": "code",
      "source": [
        "array1 = [1, 2, 3, 4, 5]\n",
        "\n",
        "rotations = 2\n",
        "\n",
        "rotated_array = array1[rotations:] + array1[:rotations]\n",
        "print(\"Array after rotation:\", rotated_array)"
      ],
      "metadata": {
        "colab": {
          "base_uri": "https://localhost:8080/"
        },
        "id": "TvVqZNw9umkO",
        "outputId": "549b2db0-7bcc-4144-b295-afb18fd738d4"
      },
      "execution_count": 4,
      "outputs": [
        {
          "output_type": "stream",
          "name": "stdout",
          "text": [
            "Array after rotation: [3, 4, 5, 1, 2]\n"
          ]
        }
      ]
    },
    {
      "cell_type": "markdown",
      "source": [
        "## 4.\tWrite a Python Program to Split the array and add the first part to the end?"
      ],
      "metadata": {
        "id": "GtG3LM8Eum64"
      }
    },
    {
      "cell_type": "code",
      "source": [
        "array1 = [1, 2, 3, 4, 5]\n",
        "\n",
        "split_index = 2\n",
        "\n",
        "split_array = array1[split_index:]\n",
        "split_array.extend(array1[:split_index])\n",
        "\n",
        "print(\"Array after split and addition:\", split_array)"
      ],
      "metadata": {
        "colab": {
          "base_uri": "https://localhost:8080/"
        },
        "id": "qny1dD5runRy",
        "outputId": "fd5f4f4a-8181-4943-fe64-10df55fa8f39"
      },
      "execution_count": 5,
      "outputs": [
        {
          "output_type": "stream",
          "name": "stdout",
          "text": [
            "Array after split and addition: [3, 4, 5, 1, 2]\n"
          ]
        }
      ]
    },
    {
      "cell_type": "markdown",
      "source": [
        "## 5.\tWrite a Python Program to check if given array is Monotonic?"
      ],
      "metadata": {
        "id": "R8BVIWHbunx0"
      }
    },
    {
      "cell_type": "code",
      "source": [
        "array1 = [1, 2, 3, 4, 5]\n",
        "\n",
        "is_monotonic = all(array1[i] <= array1[i + 1] for i in range(len(array1) - 1)) or all(array1[i] >= array1[i + 1] for i in range(len(array1) - 1))\n",
        "\n",
        "print(\"Is the array monotonic?\", is_monotonic)"
      ],
      "metadata": {
        "colab": {
          "base_uri": "https://localhost:8080/"
        },
        "id": "WJqmWsiJuoNs",
        "outputId": "388a5128-02ab-4199-ab5c-9c0af77f63d5"
      },
      "execution_count": 6,
      "outputs": [
        {
          "output_type": "stream",
          "name": "stdout",
          "text": [
            "Is the array monotonic? True\n"
          ]
        }
      ]
    }
  ]
}